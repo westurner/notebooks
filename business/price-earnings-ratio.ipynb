{
 "cells": [
  {
   "cell_type": "markdown",
   "metadata": {},
   "source": [
    "## Equations"
   ]
  },
  {
   "cell_type": "markdown",
   "metadata": {},
   "source": [
    "### EPS\n",
    "$\n",
    "\\begin{align}\n",
    "\\textit{Earnings Per Share} & = \\frac{\\textit{Earnings}}{\\textit{Market Value Per Share}} \\\\\n",
    "\\textit{EPS} & = \\frac{\\textit{Earnings}}{\\textit{Share Price}}\n",
    "\\end{align}\n",
    "$"
   ]
  },
  {
   "cell_type": "markdown",
   "metadata": {},
   "source": [
    "### P/E Ratio\n",
    "$\n",
    "\\begin{align}\n",
    "\\textit{Price/Earnings Ratio} & = \\frac{\\textit{Market Value Per Share}}{\\textit{Earnings Per Share}} \\\\\n",
    "\\textit{P/E} & = \\frac{\\textit{Share Price}}{\\textit{EPS}}\n",
    "\\end{align}\n",
    "$"
   ]
  },
  {
   "cell_type": "markdown",
   "metadata": {},
   "source": [
    "IPO parameters:\n",
    "- `n_shares` $ \\text{number of shares} $\n",
    "- `price` $ \\text{price per share} $"
   ]
  },
  {
   "cell_type": "code",
   "execution_count": 58,
   "metadata": {},
   "outputs": [
    {
     "data": {
      "text/html": [
       "<div>\n",
       "<style scoped>\n",
       "    .dataframe tbody tr th:only-of-type {\n",
       "        vertical-align: middle;\n",
       "    }\n",
       "\n",
       "    .dataframe tbody tr th {\n",
       "        vertical-align: top;\n",
       "    }\n",
       "\n",
       "    .dataframe thead th {\n",
       "        text-align: right;\n",
       "    }\n",
       "</style>\n",
       "<table border=\"1\" class=\"dataframe\">\n",
       "  <thead>\n",
       "    <tr style=\"text-align: right;\">\n",
       "      <th></th>\n",
       "      <th>mktcap</th>\n",
       "      <th>n_shares</th>\n",
       "      <th>price</th>\n",
       "      <th>earnings</th>\n",
       "      <th>eps</th>\n",
       "      <th>pe</th>\n",
       "    </tr>\n",
       "  </thead>\n",
       "  <tbody>\n",
       "    <tr>\n",
       "      <th>0</th>\n",
       "      <td>10000000.0</td>\n",
       "      <td>10000000.0</td>\n",
       "      <td>1.0</td>\n",
       "      <td>1000000.0</td>\n",
       "      <td>0.100000</td>\n",
       "      <td>10.000000</td>\n",
       "    </tr>\n",
       "    <tr>\n",
       "      <th>1</th>\n",
       "      <td>10000000.0</td>\n",
       "      <td>266666.0</td>\n",
       "      <td>37.5</td>\n",
       "      <td>1000000.0</td>\n",
       "      <td>3.750009</td>\n",
       "      <td>9.999975</td>\n",
       "    </tr>\n",
       "    <tr>\n",
       "      <th>2</th>\n",
       "      <td>10000000.0</td>\n",
       "      <td>100000.0</td>\n",
       "      <td>100.0</td>\n",
       "      <td>1000000.0</td>\n",
       "      <td>10.000000</td>\n",
       "      <td>10.000000</td>\n",
       "    </tr>\n",
       "    <tr>\n",
       "      <th>3</th>\n",
       "      <td>10000000.0</td>\n",
       "      <td>10000.0</td>\n",
       "      <td>1000.0</td>\n",
       "      <td>1000000.0</td>\n",
       "      <td>100.000000</td>\n",
       "      <td>10.000000</td>\n",
       "    </tr>\n",
       "  </tbody>\n",
       "</table>\n",
       "</div>"
      ],
      "text/plain": [
       "       mktcap    n_shares   price   earnings         eps         pe\n",
       "0  10000000.0  10000000.0     1.0  1000000.0    0.100000  10.000000\n",
       "1  10000000.0    266666.0    37.5  1000000.0    3.750009   9.999975\n",
       "2  10000000.0    100000.0   100.0  1000000.0   10.000000  10.000000\n",
       "3  10000000.0     10000.0  1000.0  1000000.0  100.000000  10.000000"
      ]
     },
     "execution_count": 58,
     "metadata": {},
     "output_type": "execute_result"
    }
   ],
   "source": [
    "mktcap = 10_000_000\n",
    "earnings = 1_000_000\n",
    "\n",
    "import pandas as pd\n",
    "df = pd.DataFrame.from_records([], columns=(\"mktcap\",\"n_shares\",\"price\",\"earnings\"))\n",
    "constdict = dict(mktcap=mktcap, earnings=earnings)\n",
    "prices = [1, 37.50, 100, 1000]\n",
    "for price in prices:\n",
    "    data = {**constdict, 'price': price, 'n_shares': mktcap // price}\n",
    "    data['eps'] = data['earnings'] / data['n_shares']\n",
    "    data['pe'] = data['price'] / data['eps']\n",
    "    df = df.append(data, ignore_index=True)\n",
    "df"
   ]
  },
  {
   "cell_type": "markdown",
   "metadata": {},
   "source": [
    "### Observation 1\n",
    "EPS is not useful for comparing the performance of different securities because it is sensitive to ``n_shares`` and ``price``."
   ]
  },
  {
   "cell_type": "code",
   "execution_count": 97,
   "metadata": {},
   "outputs": [
    {
     "data": {
      "text/plain": [
       "[Text(0, 0, '10,000,000'),\n",
       " Text(0, 0, '266,666'),\n",
       " Text(0, 0, '100,000'),\n",
       " Text(0, 0, '10,000')]"
      ]
     },
     "execution_count": 97,
     "metadata": {},
     "output_type": "execute_result"
    },
    {
     "data": {
      "image/png": "[encoded data removed]",
      "text/plain": [
       "<Figure size 432x288 with 1 Axes>"
      ]
     },
     "metadata": {
      "needs_background": "light"
     },
     "output_type": "display_data"
    }
   ],
   "source": [
    "%matplotlib inline\n",
    "xcol='n_shares'\n",
    "ax = df[[xcol, 'eps', 'pe']].plot(\n",
    "    x=xcol, y=['eps','pe'], logx='sym', xticks=df[xcol], use_index=True) #, table=True)\n",
    "ax.set_xticklabels(df[xcol].apply(lambda x: \"{:,.0f}\".format(x)))"
   ]
  },
  {
   "cell_type": "code",
   "execution_count": 100,
   "metadata": {},
   "outputs": [
    {
     "data": {
      "text/plain": [
       "[Text(0, 0, '1.0'),\n",
       " Text(0, 0, '37.5'),\n",
       " Text(0, 0, '100.0'),\n",
       " Text(0, 0, '1,000.0')]"
      ]
     },
     "execution_count": 100,
     "metadata": {},
     "output_type": "execute_result"
    },
    {
     "data": {
      "image/png": "[encoded data removed]",
      "text/plain": [
       "<Figure size 432x288 with 1 Axes>"
      ]
     },
     "metadata": {
      "needs_background": "light"
     },
     "output_type": "display_data"
    }
   ],
   "source": [
    "xcol='price'\n",
    "ax = df[[xcol, 'eps', 'pe']].plot(\n",
    "    x=xcol, y=['eps','pe'], logx='sym', xticks=df[xcol], use_index=True) #, table=True)\n",
    "ax.set_xticklabels(df[xcol].apply(lambda x: \"{:,.1f}\".format(x)))"
   ]
  },
  {
   "cell_type": "code",
   "execution_count": 107,
   "metadata": {},
   "outputs": [
    {
     "data": {
      "text/plain": [
       "[Text(0, 0, '0.1'), Text(0, 0, '3.8'), Text(0, 0, '10.0'), Text(0, 0, '100.0')]"
      ]
     },
     "execution_count": 107,
     "metadata": {},
     "output_type": "execute_result"
    },
    {
     "data": {
      "image/png": "[encoded data removed]",
      "text/plain": [
       "<Figure size 432x288 with 1 Axes>"
      ]
     },
     "metadata": {
      "needs_background": "light"
     },
     "output_type": "display_data"
    }
   ],
   "source": [
    "xcol='eps'\n",
    "ax = df[[xcol, 'price', 'pe']].plot(\n",
    "    x=xcol, y=['price','pe'], logx='sym', xticks=df[xcol], use_index=True) #, table=True)\n",
    "ax.set_xticklabels(df[xcol].apply(lambda x: \"{:,.1f}\".format(x)))"
   ]
  },
  {
   "cell_type": "markdown",
   "metadata": {},
   "source": [
    "### Observation 2\n",
    "- For a higher EPS, set a higher initial price"
   ]
  },
  {
   "cell_type": "markdown",
   "metadata": {},
   "source": [
    "## P/E Ratio further study\n",
    "$\n",
    "\\begin{align}\n",
    "\\textit{P/E} & = \\frac{\\textit{Share Price}}{\\frac{\\textit{Earnings}}{\\textit{Share Price}}} \\\\\n",
    "\\textit{P/E} & = \\frac{\\textit{Share Price}}{1} * \\frac{\\textit{Share Price}}{\\textit{Earnings}} \\\\\n",
    "\\textit{P/E} & = \\frac{\\textit{Share Price}^2}{\\textit{Earnings}}\n",
    "\\end{align}\n",
    "$"
   ]
  },
  {
   "cell_type": "code",
   "execution_count": 116,
   "metadata": {},
   "outputs": [],
   "source": [
    "import sympy as sp\n",
    "eps = sp.var(\"EPS\")\n",
    "earnings = sp.var(\"earnings\")\n",
    "mktcap = sp.var(\"mktcap\")\n",
    "price = sp.var(\"price\")\n",
    "pe = sp.var(\"PE\")"
   ]
  },
  {
   "cell_type": "code",
   "execution_count": 118,
   "metadata": {},
   "outputs": [
    {
     "data": {
      "text/latex": [
       "$\\displaystyle EPS = \\frac{earnings}{price}$"
      ],
      "text/plain": [
       "Eq(EPS, earnings/price)"
      ]
     },
     "execution_count": 118,
     "metadata": {},
     "output_type": "execute_result"
    }
   ],
   "source": [
    "eps_eq = sp.Eq(eps, earnings / price)\n",
    "eps_eq"
   ]
  },
  {
   "cell_type": "code",
   "execution_count": 121,
   "metadata": {},
   "outputs": [
    {
     "data": {
      "text/latex": [
       "$\\displaystyle PE = \\frac{price}{EPS}$"
      ],
      "text/plain": [
       "Eq(PE, price/EPS)"
      ]
     },
     "execution_count": 121,
     "metadata": {},
     "output_type": "execute_result"
    }
   ],
   "source": [
    "pe_eq = sp.Eq(pe, price / eps)\n",
    "pe_eq"
   ]
  },
  {
   "cell_type": "code",
   "execution_count": 145,
   "metadata": {},
   "outputs": [
    {
     "data": {
      "text/latex": [
       "$\\displaystyle PE = \\frac{price^{2}}{earnings}$"
      ],
      "text/plain": [
       "Eq(PE, price**2/earnings)"
      ]
     },
     "execution_count": 145,
     "metadata": {},
     "output_type": "execute_result"
    }
   ],
   "source": [
    "pe_eq_full = pe_eq.subs({eps: eps_eq.rhs})\n",
    "pe_eq_full"
   ]
  },
  {
   "cell_type": "code",
   "execution_count": 146,
   "metadata": {},
   "outputs": [
    {
     "data": {
      "text/latex": [
       "$\\displaystyle PE = \\frac{price}{earnings \\frac{1}{price}}$"
      ],
      "text/plain": [
       "Eq(PE, price/((earnings/price)))"
      ]
     },
     "execution_count": 146,
     "metadata": {},
     "output_type": "execute_result"
    }
   ],
   "source": [
    "from sympy.core.evaluate import evaluate\n",
    "with evaluate(False):\n",
    "    pe_eq_full_unsimplified = pe_eq.subs({eps: eps_eq.rhs})\n",
    "pe_eq_full_unsimplified"
   ]
  },
  {
   "cell_type": "code",
   "execution_count": 135,
   "metadata": {},
   "outputs": [
    {
     "data": {
      "text/plain": [
       "(PE, price**2/earnings)"
      ]
     },
     "execution_count": 135,
     "metadata": {},
     "output_type": "execute_result"
    }
   ],
   "source": [
    "pe_eq_full.lhs, pe_eq_full.rhs"
   ]
  },
  {
   "cell_type": "code",
   "execution_count": 136,
   "metadata": {},
   "outputs": [
    {
     "data": {
      "text/plain": [
       "'Eq(PE, price**2/earnings)'"
      ]
     },
     "execution_count": 136,
     "metadata": {},
     "output_type": "execute_result"
    }
   ],
   "source": [
    "str(pe_eq_full)"
   ]
  },
  {
   "cell_type": "code",
   "execution_count": 137,
   "metadata": {},
   "outputs": [
    {
     "data": {
      "text/latex": [
       "$\\displaystyle \\frac{price^{2}}{earnings}$"
      ],
      "text/plain": [
       "price**2/earnings"
      ]
     },
     "execution_count": 137,
     "metadata": {},
     "output_type": "execute_result"
    }
   ],
   "source": [
    "pe_eq_full.rhs"
   ]
  }
 ],
 "metadata": {
  "kernelspec": {
   "display_name": "Python 3",
   "language": "python",
   "name": "python3"
  },
  "language_info": {
   "codemirror_mode": {
    "name": "ipython",
    "version": 3
   },
   "file_extension": ".py",
   "mimetype": "text/x-python",
   "name": "python",
   "nbconvert_exporter": "python",
   "pygments_lexer": "ipython3",
   "version": "3.7.6"
  }
 },
 "nbformat": 4,
 "nbformat_minor": 4
}
