{
 "cells": [
  {
   "cell_type": "markdown",
   "metadata": {},
   "source": [
    "# Business Fundamentals"
   ]
  },
  {
   "cell_type": "code",
   "execution_count": 6,
   "metadata": {},
   "outputs": [],
   "source": [
    "import sympy\n",
    "from sympy import Symbol, symbols\n",
    "import ipytest\n",
    "import pytest\n",
    "ipytest.config(rewrite_asserts=True, magics=True)\n",
    "__file__ = \"business_fundamentals.ipynb\""
   ]
  },
  {
   "cell_type": "markdown",
   "metadata": {},
   "source": [
    "## Profit\n",
    "$\\begin{align}\n",
    "\\textit{Profit} & = \\textit{Revenue} - \\textit{Expenses}\n",
    "\\end{align}$"
   ]
  },
  {
   "cell_type": "markdown",
   "metadata": {},
   "source": [
    "## Accounting Equation\n",
    "https://en.wikipedia.org/wiki/Accounting_equation  \n",
    "$\\begin{align}\n",
    "\\textit{Assets} & = \\textit{Liabilities} + \\textit{Equity}\n",
    "\\end{align}$\n",
    "\n",
    "$\\begin{align}\n",
    "\\textit{Liabilities} & = \\textit{Assets} - \\textit{Equity}\n",
    "\\end{align}$\n",
    "\n",
    "$\\begin{align}\n",
    "\\textit{Equity} & = \\textit{Assets} - \\textit{Liabilities}\n",
    "\\end{align}$"
   ]
  },
  {
   "cell_type": "code",
   "execution_count": 2,
   "metadata": {},
   "outputs": [
    {
     "data": {
      "text/latex": [
       "$\\displaystyle Assets = Equity + Liabilities$"
      ],
      "text/plain": [
       "Eq(Assets, Equity + Liabilities)"
      ]
     },
     "execution_count": 2,
     "metadata": {},
     "output_type": "execute_result"
    }
   ],
   "source": [
    "assets, liabilities, equity = Symbol(\"Assets\"), Symbol(\"Liabilities\"), Symbol(\"Equity\")\n",
    "accounting_equation = sympy.Eq(assets, liabilities + equity)\n",
    "accounting_equation"
   ]
  },
  {
   "cell_type": "code",
   "execution_count": 3,
   "metadata": {},
   "outputs": [
    {
     "data": {
      "text/latex": [
       "$\\displaystyle Assets = Equity + Liabilities$"
      ],
      "text/plain": [
       "Eq(Assets, Equity + Liabilities)"
      ]
     },
     "execution_count": 3,
     "metadata": {},
     "output_type": "execute_result"
    }
   ],
   "source": [
    "sympy.Eq(assets, sympy.solve(accounting_equation, assets)[0])"
   ]
  },
  {
   "cell_type": "code",
   "execution_count": 4,
   "metadata": {},
   "outputs": [
    {
     "data": {
      "text/latex": [
       "$\\displaystyle Liabilities = Assets - Equity$"
      ],
      "text/plain": [
       "Eq(Liabilities, Assets - Equity)"
      ]
     },
     "execution_count": 4,
     "metadata": {},
     "output_type": "execute_result"
    }
   ],
   "source": [
    "sympy.Eq(liabilities, sympy.solve(accounting_equation, liabilities)[0])"
   ]
  },
  {
   "cell_type": "code",
   "execution_count": 5,
   "metadata": {},
   "outputs": [
    {
     "data": {
      "text/latex": [
       "$\\displaystyle Equity = Assets - Liabilities$"
      ],
      "text/plain": [
       "Eq(Equity, Assets - Liabilities)"
      ]
     },
     "execution_count": 5,
     "metadata": {},
     "output_type": "execute_result"
    }
   ],
   "source": [
    "sympy.Eq(equity, sympy.solve(accounting_equation, equity)[0])"
   ]
  },
  {
   "cell_type": "markdown",
   "metadata": {},
   "source": [
    "### Expanded Accounting Equation\n",
    "\n",
    "$\\begin{align}\n",
    "\\textit{Assets} & = \\textit{Liabilities} + \\textit{Contributed Capital} + \\textit{Revenue} - \\textit{Expenses} - \\textit{Dividends}\n",
    "\\end{align}$"
   ]
  },
  {
   "cell_type": "markdown",
   "metadata": {},
   "source": [
    "### Net Worth\n",
    "https://en.wikipedia.org/wiki/Net_worth"
   ]
  },
  {
   "cell_type": "markdown",
   "metadata": {},
   "source": [
    "## Business Model Example: Making benches\n",
    "- Bob can make benches.\n",
    "- Benches sell for \\\\$100.\n",
    "- Each bench requires \\\\$60 in materials.\n",
    "- Minimum wage: \\\\$10"
   ]
  },
  {
   "cell_type": "code",
   "execution_count": 6,
   "metadata": {},
   "outputs": [
    {
     "data": {
      "text/plain": [
       "{'price_unit': 100, 'cost_materials': 60, 'minimum_wage': 10}"
      ]
     },
     "execution_count": 6,
     "metadata": {},
     "output_type": "execute_result"
    }
   ],
   "source": [
    "constants = dict(\n",
    "    price_unit=100,\n",
    "    cost_materials=60,\n",
    "    minimum_wage=10)\n",
    "constants"
   ]
  },
  {
   "cell_type": "markdown",
   "metadata": {},
   "source": [
    "**Q: How many benches does Bob need to make and sell in order to make more than minimum wage?**"
   ]
  },
  {
   "cell_type": "code",
   "execution_count": 7,
   "metadata": {},
   "outputs": [
    {
     "name": "stdout",
     "output_type": "stream",
     "text": [
      "NameError(\"name 'cost_per_hour' is not defined\")\n"
     ]
    }
   ],
   "source": [
    "try:\n",
    "    profit_per_bench = 100 - (60 + (cost_per_hour * hours_per_bench))\n",
    "except Exception as e:\n",
    "    print(repr(e))"
   ]
  },
  {
   "cell_type": "code",
   "execution_count": 8,
   "metadata": {},
   "outputs": [
    {
     "name": "stdout",
     "output_type": "stream",
     "text": [
      "NameError(\"name 'hours_per_bench' is not defined\")\n"
     ]
    }
   ],
   "source": [
    "try:\n",
    "    profit_per_bench = 100 - (60 + (hours_per_bench * cost_per_hour))\n",
    "except Exception as e:\n",
    "    print(repr(e))"
   ]
  },
  {
   "cell_type": "markdown",
   "metadata": {},
   "source": [
    "**Answer_0**: We need to know `cost_per_hour` and `hours_per_bench` in order to calculate *marginal cost*, *marginal revenue*, and *marginal profit*.\n",
    "\n",
    "We can model this as a symbolic formula and solve for or fill those in later."
   ]
  },
  {
   "cell_type": "markdown",
   "metadata": {},
   "source": [
    "### Marginal Cost\n",
    "https://en.wikipedia.org/wiki/Marginal_cost"
   ]
  },
  {
   "cell_type": "code",
   "execution_count": 9,
   "metadata": {},
   "outputs": [
    {
     "data": {
      "text/latex": [
       "$\\displaystyle cost_{marginal} = cost_{labor} + cost_{materials} + cost_{other}$"
      ],
      "text/plain": [
       "Eq(cost_marginal, cost_labor + cost_materials + cost_other)"
      ]
     },
     "execution_count": 9,
     "metadata": {},
     "output_type": "execute_result"
    }
   ],
   "source": [
    "marginal_cost = Symbol(\"cost_marginal\")\n",
    "materials_cost, labor_cost, other_costs = \\\n",
    "    symbols(\"cost_materials cost_labor cost_other\")\n",
    "marginal_cost_eq = sympy.Eq(marginal_cost, materials_cost + labor_cost + other_costs)\n",
    "marginal_cost_eq"
   ]
  },
  {
   "cell_type": "code",
   "execution_count": 10,
   "metadata": {},
   "outputs": [
    {
     "data": {
      "text/latex": [
       "$\\displaystyle cost_{marginal} = cost_{labor} + cost_{other} + 60$"
      ],
      "text/plain": [
       "Eq(cost_marginal, cost_labor + cost_other + 60)"
      ]
     },
     "execution_count": 10,
     "metadata": {},
     "output_type": "execute_result"
    }
   ],
   "source": [
    "marginal_cost_eq.subs({'cost_materials': constants['cost_materials']})"
   ]
  },
  {
   "cell_type": "markdown",
   "metadata": {},
   "source": [
    "### Marginal Revenue\n",
    "https://en.wikipedia.org/wiki/Marginal_revenue"
   ]
  },
  {
   "cell_type": "code",
   "execution_count": 7,
   "metadata": {},
   "outputs": [
    {
     "data": {
      "text/latex": [
       "$\\displaystyle revenue_{marginal} = - costs_{transaction} + price_{unit}$"
      ],
      "text/plain": [
       "Eq(revenue_marginal, -costs_transaction + price_unit)"
      ]
     },
     "execution_count": 7,
     "metadata": {},
     "output_type": "execute_result"
    }
   ],
   "source": [
    "marginal_revenue = Symbol(\"revenue_marginal\")\n",
    "unit_price, transaction_costs = symbols(\"price_unit costs_transaction\")\n",
    "marginal_revenue_eq = sympy.Eq(marginal_revenue, unit_price - transaction_costs)\n",
    "marginal_revenue_eq"
   ]
  },
  {
   "cell_type": "code",
   "execution_count": 12,
   "metadata": {},
   "outputs": [
    {
     "data": {
      "text/latex": [
       "$\\displaystyle revenue_{marginal} = 100 - costs_{transaction}$"
      ],
      "text/plain": [
       "Eq(revenue_marginal, 100 - costs_transaction)"
      ]
     },
     "execution_count": 12,
     "metadata": {},
     "output_type": "execute_result"
    }
   ],
   "source": [
    "marginal_revenue_eq.subs({'price_unit': constants['price_unit']})"
   ]
  },
  {
   "cell_type": "markdown",
   "metadata": {},
   "source": [
    "### Marginal Profit\n",
    "https://en.wikipedia.org/wiki/Marginal_profit"
   ]
  },
  {
   "cell_type": "code",
   "execution_count": 13,
   "metadata": {},
   "outputs": [
    {
     "data": {
      "text/latex": [
       "$\\displaystyle profit_{marginal} = - cost_{marginal} + revenue_{marginal}$"
      ],
      "text/plain": [
       "Eq(profit_marginal, -cost_marginal + revenue_marginal)"
      ]
     },
     "execution_count": 13,
     "metadata": {},
     "output_type": "execute_result"
    }
   ],
   "source": [
    "marginal_profit = Symbol(\"profit_marginal\")\n",
    "marginal_profit_eq_simple = sympy.Eq(marginal_profit, marginal_revenue - marginal_cost)\n",
    "marginal_profit_eq_simple"
   ]
  },
  {
   "cell_type": "code",
   "execution_count": 14,
   "metadata": {},
   "outputs": [
    {
     "data": {
      "text/latex": [
       "$\\displaystyle profit_{marginal} = - cost_{labor} - cost_{materials} - cost_{other} - costs_{transaction} + price_{unit}$"
      ],
      "text/plain": [
       "Eq(profit_marginal, -cost_labor - cost_materials - cost_other - costs_transaction + price_unit)"
      ]
     },
     "execution_count": 14,
     "metadata": {},
     "output_type": "execute_result"
    }
   ],
   "source": [
    "marginal_profit_eq = marginal_profit_eq_simple.subs(\n",
    "    {'revenue_marginal': marginal_revenue_eq.rhs,\n",
    "     'cost_marginal': marginal_cost_eq.rhs})\n",
    "marginal_profit_eq"
   ]
  },
  {
   "cell_type": "code",
   "execution_count": 15,
   "metadata": {},
   "outputs": [
    {
     "data": {
      "text/latex": [
       "$\\displaystyle profit_{marginal} = - cost_{labor} - cost_{other} - costs_{transaction} + 40$"
      ],
      "text/plain": [
       "Eq(profit_marginal, -cost_labor - cost_other - costs_transaction + 40)"
      ]
     },
     "execution_count": 15,
     "metadata": {},
     "output_type": "execute_result"
    }
   ],
   "source": [
    "marginal_profit_eq.subs(\n",
    "    {'price_unit': constants['price_unit'],\n",
    "     'cost_materials': constants['cost_materials']})"
   ]
  },
  {
   "cell_type": "markdown",
   "metadata": {},
   "source": [
    "### Systems of equations and inequalities\n",
    "https://en.wikipedia.org/wiki/System_of_equations  \n",
    "https://en.wikipedia.org/wiki/Inequality_(mathematics)"
   ]
  },
  {
   "cell_type": "code",
   "execution_count": 16,
   "metadata": {},
   "outputs": [
    {
     "data": {
      "text/latex": [
       "$\\displaystyle cost_{labor} \\geq 10$"
      ],
      "text/plain": [
       "cost_labor >= 10"
      ]
     },
     "execution_count": 16,
     "metadata": {},
     "output_type": "execute_result"
    }
   ],
   "source": [
    "labor_cost_ineq = (labor_cost >= constants['minimum_wage'])\n",
    "labor_cost_ineq"
   ]
  },
  {
   "cell_type": "markdown",
   "metadata": {},
   "source": [
    "### Pricing strategies\n",
    "https://en.wikipedia.org/wiki/Pricing"
   ]
  },
  {
   "cell_type": "code",
   "execution_count": 17,
   "metadata": {},
   "outputs": [],
   "source": [
    "minimum_wage = Symbol('minimum_wage')"
   ]
  },
  {
   "cell_type": "code",
   "execution_count": 18,
   "metadata": {},
   "outputs": [
    {
     "data": {
      "text/latex": [
       "$\\displaystyle profit_{marginal} \\geq minimum_{wage}$"
      ],
      "text/plain": [
       "profit_marginal >= minimum_wage"
      ]
     },
     "execution_count": 18,
     "metadata": {},
     "output_type": "execute_result"
    }
   ],
   "source": [
    "solutions_ineq = (marginal_profit >= minimum_wage)\n",
    "solutions_ineq"
   ]
  },
  {
   "cell_type": "code",
   "execution_count": 19,
   "metadata": {},
   "outputs": [
    {
     "data": {
      "text/latex": [
       "$\\displaystyle profit_{marginal} \\geq 10$"
      ],
      "text/plain": [
       "profit_marginal >= 10"
      ]
     },
     "execution_count": 19,
     "metadata": {},
     "output_type": "execute_result"
    }
   ],
   "source": [
    "solutions_ineq_ = solutions_ineq.subs(constants)\n",
    "solutions_ineq_"
   ]
  },
  {
   "cell_type": "code",
   "execution_count": 20,
   "metadata": {},
   "outputs": [
    {
     "data": {
      "text/latex": [
       "$\\displaystyle - cost_{labor} - cost_{other} - costs_{transaction} + 40 \\geq 10$"
      ],
      "text/plain": [
       "-cost_labor - cost_other - costs_transaction + 40 >= 10"
      ]
     },
     "execution_count": 20,
     "metadata": {},
     "output_type": "execute_result"
    }
   ],
   "source": [
    "solutions_ineq_ = solutions_ineq_.subs(\n",
    "    {'profit_marginal': (\n",
    "        marginal_profit_eq.rhs.subs(constants))}\n",
    "    )\n",
    "solutions_ineq_"
   ]
  },
  {
   "cell_type": "code",
   "execution_count": 21,
   "metadata": {},
   "outputs": [
    {
     "data": {
      "text/latex": [
       "$\\displaystyle cost_{labor} + cost_{other} + costs_{transaction} \\leq 30$"
      ],
      "text/plain": [
       "cost_labor + cost_other + costs_transaction <= 30"
      ]
     },
     "execution_count": 21,
     "metadata": {},
     "output_type": "execute_result"
    }
   ],
   "source": [
    "solutions_ineq_.simplify()"
   ]
  },
  {
   "cell_type": "code",
   "execution_count": 22,
   "metadata": {},
   "outputs": [
    {
     "data": {
      "text/latex": [
       "$\\displaystyle cost_{labor} + cost_{other} + costs_{transaction} \\leq 30$"
      ],
      "text/plain": [
       "cost_labor + cost_other + costs_transaction <= 30"
      ]
     },
     "execution_count": 22,
     "metadata": {},
     "output_type": "execute_result"
    }
   ],
   "source": [
    "(solutions_ineq_.lhs - solutions_ineq_.rhs\n",
    " >= solutions_ineq_.lhs - solutions_ineq_.lhs).simplify()"
   ]
  },
  {
   "cell_type": "code",
   "execution_count": 23,
   "metadata": {},
   "outputs": [
    {
     "data": {
      "text/latex": [
       "$\\displaystyle cost_{labor} + cost_{other} + costs_{transaction} \\leq 30$"
      ],
      "text/plain": [
       "cost_labor + cost_other + costs_transaction <= 30"
      ]
     },
     "execution_count": 23,
     "metadata": {},
     "output_type": "execute_result"
    }
   ],
   "source": [
    "(solutions_ineq_.lhs - solutions_ineq_.rhs\n",
    " >= 0).simplify()"
   ]
  },
  {
   "cell_type": "code",
   "execution_count": 24,
   "metadata": {},
   "outputs": [
    {
     "data": {
      "text/latex": [
       "$\\displaystyle - cost_{labor} - cost_{other} - costs_{transaction} + 30 \\geq 0$"
      ],
      "text/plain": [
       "-cost_labor - cost_other - costs_transaction + 30 >= 0"
      ]
     },
     "execution_count": 24,
     "metadata": {},
     "output_type": "execute_result"
    }
   ],
   "source": [
    "(solutions_ineq_.lhs - solutions_ineq_.rhs\n",
    " >= 0)"
   ]
  },
  {
   "cell_type": "code",
   "execution_count": 25,
   "metadata": {},
   "outputs": [
    {
     "data": {
      "text/latex": [
       "$\\displaystyle - cost_{labor} - cost_{other} - costs_{transaction} + 40 \\geq 10$"
      ],
      "text/plain": [
       "-cost_labor - cost_other - costs_transaction + 40 >= 10"
      ]
     },
     "metadata": {},
     "output_type": "display_data"
    },
    {
     "data": {
      "text/latex": [
       "$\\displaystyle cost_{labor} \\geq 10$"
      ],
      "text/plain": [
       "cost_labor >= 10"
      ]
     },
     "metadata": {},
     "output_type": "display_data"
    }
   ],
   "source": [
    "display(solutions_ineq_)\n",
    "display(labor_cost_ineq)"
   ]
  },
  {
   "cell_type": "code",
   "execution_count": 26,
   "metadata": {},
   "outputs": [
    {
     "ename": "NotImplementedError",
     "evalue": "\ninequality has more than one symbol of interest.",
     "output_type": "error",
     "traceback": [
      "\u001b[0;31m---------------------------------------------------------------------------\u001b[0m",
      "\u001b[0;31mNotImplementedError\u001b[0m                       Traceback (most recent call last)",
      "\u001b[0;32m~/-wrk/-ce36/math/src/notebooks/business/entrepreneurship/business_fundamentals.ipynb\u001b[0m in \u001b[0;36m<module>\u001b[0;34m\u001b[0m\n\u001b[1;32m      1\u001b[0m \u001b[0;32mfrom\u001b[0m \u001b[0msympy\u001b[0m\u001b[0;34m.\u001b[0m\u001b[0msolvers\u001b[0m\u001b[0;34m.\u001b[0m\u001b[0minequalities\u001b[0m \u001b[0;32mimport\u001b[0m \u001b[0mreduce_inequalities\u001b[0m\u001b[0;34m\u001b[0m\u001b[0;34m\u001b[0m\u001b[0m\n\u001b[1;32m      2\u001b[0m \u001b[0minequalities\u001b[0m \u001b[0;34m=\u001b[0m \u001b[0;34m[\u001b[0m\u001b[0msolutions_ineq_\u001b[0m\u001b[0;34m,\u001b[0m \u001b[0mlabor_cost_ineq\u001b[0m\u001b[0;34m]\u001b[0m\u001b[0;34m\u001b[0m\u001b[0;34m\u001b[0m\u001b[0m\n\u001b[0;32m----> 3\u001b[0;31m \u001b[0mreduce_inequalities\u001b[0m\u001b[0;34m(\u001b[0m\u001b[0minequalities\u001b[0m\u001b[0;34m)\u001b[0m\u001b[0;34m\u001b[0m\u001b[0;34m\u001b[0m\u001b[0m\n\u001b[0m",
      "\u001b[0;32m~/-wrk/-ce37/math/lib/python3.7/site-packages/sympy/solvers/inequalities.py\u001b[0m in \u001b[0;36mreduce_inequalities\u001b[0;34m(inequalities, symbols)\u001b[0m\n\u001b[1;32m    991\u001b[0m \u001b[0;34m\u001b[0m\u001b[0m\n\u001b[1;32m    992\u001b[0m     \u001b[0;31m# solve system\u001b[0m\u001b[0;34m\u001b[0m\u001b[0;34m\u001b[0m\u001b[0;34m\u001b[0m\u001b[0m\n\u001b[0;32m--> 993\u001b[0;31m     \u001b[0mrv\u001b[0m \u001b[0;34m=\u001b[0m \u001b[0m_reduce_inequalities\u001b[0m\u001b[0;34m(\u001b[0m\u001b[0minequalities\u001b[0m\u001b[0;34m,\u001b[0m \u001b[0msymbols\u001b[0m\u001b[0;34m)\u001b[0m\u001b[0;34m\u001b[0m\u001b[0;34m\u001b[0m\u001b[0m\n\u001b[0m\u001b[1;32m    994\u001b[0m \u001b[0;34m\u001b[0m\u001b[0m\n\u001b[1;32m    995\u001b[0m     \u001b[0;31m# restore original symbols and return\u001b[0m\u001b[0;34m\u001b[0m\u001b[0;34m\u001b[0m\u001b[0;34m\u001b[0m\u001b[0m\n",
      "\u001b[0;32m~/-wrk/-ce37/math/lib/python3.7/site-packages/sympy/solvers/inequalities.py\u001b[0m in \u001b[0;36m_reduce_inequalities\u001b[0;34m(inequalities, symbols)\u001b[0m\n\u001b[1;32m    911\u001b[0m                 raise NotImplementedError(filldedent('''\n\u001b[1;32m    912\u001b[0m                     \u001b[0minequality\u001b[0m \u001b[0mhas\u001b[0m \u001b[0mmore\u001b[0m \u001b[0mthan\u001b[0m \u001b[0mone\u001b[0m \u001b[0msymbol\u001b[0m \u001b[0mof\u001b[0m \u001b[0minterest\u001b[0m\u001b[0;34m.\u001b[0m\u001b[0;34m\u001b[0m\u001b[0;34m\u001b[0m\u001b[0m\n\u001b[0;32m--> 913\u001b[0;31m                     '''))\n\u001b[0m\u001b[1;32m    914\u001b[0m \u001b[0;34m\u001b[0m\u001b[0m\n\u001b[1;32m    915\u001b[0m         \u001b[0;32mif\u001b[0m \u001b[0mexpr\u001b[0m\u001b[0;34m.\u001b[0m\u001b[0mis_polynomial\u001b[0m\u001b[0;34m(\u001b[0m\u001b[0mgen\u001b[0m\u001b[0;34m)\u001b[0m\u001b[0;34m:\u001b[0m\u001b[0;34m\u001b[0m\u001b[0;34m\u001b[0m\u001b[0m\n",
      "\u001b[0;31mNotImplementedError\u001b[0m: \ninequality has more than one symbol of interest."
     ]
    }
   ],
   "source": [
    "from sympy.solvers.inequalities import reduce_inequalities\n",
    "inequalities = [solutions_ineq_, labor_cost_ineq]\n",
    "reduce_inequalities(inequalities)"
   ]
  }
 ],
 "metadata": {
  "kernelspec": {
   "display_name": "Python 3",
   "language": "python",
   "name": "python3"
  },
  "language_info": {
   "codemirror_mode": {
    "name": "ipython",
    "version": 3
   },
   "file_extension": ".py",
   "mimetype": "text/x-python",
   "name": "python",
   "nbconvert_exporter": "python",
   "pygments_lexer": "ipython3",
   "version": "3.7.6"
  },
  "toc-autonumbering": false,
  "toc-showcode": false,
  "toc-showmarkdowntxt": false,
  "toc-showtags": false
 },
 "nbformat": 4,
 "nbformat_minor": 4
}
