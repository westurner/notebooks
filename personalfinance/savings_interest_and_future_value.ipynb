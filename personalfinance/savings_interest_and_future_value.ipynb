{
 "cells": [
  {
   "cell_type": "markdown",
   "metadata": {},
   "source": [
    "# Savings, Interest, and Future Value\n",
    "- `fv()` https://numpy.org/doc/1.17/reference/generated/numpy.fv.html#numpy.fv\n",
    "- `FV()` https://support.google.com/docs/answer/3093224?hl=en\n",
    "- `FV()` https://support.office.com/en-us/article/fv-function-2eef9f44-a084-4c61-bdd8-4fe4bb1b71b3\n",
    "- `FV()` https://wiki.openoffice.org/wiki/Documentation/How_Tos/Calc:_FV_function"
   ]
  },
  {
   "cell_type": "code",
   "execution_count": 1,
   "metadata": {},
   "outputs": [],
   "source": [
    "#!pip install numpy_financial pandas\n",
    "#import numpy as npf\n",
    "import numpy_financial as npf\n",
    "import pandas as pd"
   ]
  },
  {
   "cell_type": "code",
   "execution_count": 2,
   "metadata": {},
   "outputs": [],
   "source": [
    "def annual_interest_to_daily_simple(rate):\n",
    "    return rate / 365\n",
    "\n",
    "def annual_interest_to_daily_compounding(rate):\n",
    "    return (((1+rate) ** (1/365)) - 1)"
   ]
  },
  {
   "cell_type": "code",
   "execution_count": 3,
   "metadata": {},
   "outputs": [
    {
     "data": {
      "text/plain": [
       "'$ 1.7660088312053745e+18 after 200 years at 10.0 % APR'"
      ]
     },
     "execution_count": 3,
     "metadata": {},
     "output_type": "execute_result"
    }
   ],
   "source": [
    "savings_target = 145_000_000_000\n",
    "\n",
    "interest_rate_annual = 0.10\n",
    "n_years = 200\n",
    "\n",
    "interest_rate_daily = annual_interest_to_daily_simple(interest_rate_annual)\n",
    "rate = interest_rate_daily\n",
    "nper = 365 * n_years\n",
    "pmt = pmt_ = -1_000_000\n",
    "pv = 0\n",
    "\n",
    "fv = npf.fv(rate, nper, pmt, pv)\n",
    "f'$ {fv:,} after {n_years} years at {interest_rate_annual*100} % APR'"
   ]
  },
  {
   "cell_type": "code",
   "execution_count": 4,
   "metadata": {},
   "outputs": [
    {
     "data": {
      "text/plain": [
       "array([-0.00000000e+00,  1.00000000e+06,  2.00027397e+06, ...,\n",
       "        1.76455811e+18,  1.76504155e+18,  1.76552513e+18])"
      ]
     },
     "execution_count": 4,
     "metadata": {},
     "output_type": "execute_result"
    }
   ],
   "source": [
    "fv_array = npf.fv(rate, range(0, nper), pmt, pv)\n",
    "#f'{fv:,}'\n",
    "fv_array"
   ]
  },
  {
   "cell_type": "code",
   "execution_count": 5,
   "metadata": {},
   "outputs": [
    {
     "data": {
      "text/html": [
       "<div>\n",
       "<style scoped>\n",
       "    .dataframe tbody tr th:only-of-type {\n",
       "        vertical-align: middle;\n",
       "    }\n",
       "\n",
       "    .dataframe tbody tr th {\n",
       "        vertical-align: top;\n",
       "    }\n",
       "\n",
       "    .dataframe thead th {\n",
       "        text-align: right;\n",
       "    }\n",
       "</style>\n",
       "<table border=\"1\" class=\"dataframe\">\n",
       "  <thead>\n",
       "    <tr style=\"text-align: right;\">\n",
       "      <th></th>\n",
       "      <th>value</th>\n",
       "    </tr>\n",
       "    <tr>\n",
       "      <th>days</th>\n",
       "      <th></th>\n",
       "    </tr>\n",
       "  </thead>\n",
       "  <tbody>\n",
       "    <tr>\n",
       "      <th>0</th>\n",
       "      <td>-0.000000e+00</td>\n",
       "    </tr>\n",
       "    <tr>\n",
       "      <th>1</th>\n",
       "      <td>1.000000e+06</td>\n",
       "    </tr>\n",
       "    <tr>\n",
       "      <th>2</th>\n",
       "      <td>2.000274e+06</td>\n",
       "    </tr>\n",
       "    <tr>\n",
       "      <th>3</th>\n",
       "      <td>3.000822e+06</td>\n",
       "    </tr>\n",
       "    <tr>\n",
       "      <th>4</th>\n",
       "      <td>4.001644e+06</td>\n",
       "    </tr>\n",
       "    <tr>\n",
       "      <th>...</th>\n",
       "      <td>...</td>\n",
       "    </tr>\n",
       "    <tr>\n",
       "      <th>72995</th>\n",
       "      <td>1.763592e+18</td>\n",
       "    </tr>\n",
       "    <tr>\n",
       "      <th>72996</th>\n",
       "      <td>1.764075e+18</td>\n",
       "    </tr>\n",
       "    <tr>\n",
       "      <th>72997</th>\n",
       "      <td>1.764558e+18</td>\n",
       "    </tr>\n",
       "    <tr>\n",
       "      <th>72998</th>\n",
       "      <td>1.765042e+18</td>\n",
       "    </tr>\n",
       "    <tr>\n",
       "      <th>72999</th>\n",
       "      <td>1.765525e+18</td>\n",
       "    </tr>\n",
       "  </tbody>\n",
       "</table>\n",
       "<p>73000 rows × 1 columns</p>\n",
       "</div>"
      ],
      "text/plain": [
       "              value\n",
       "days               \n",
       "0     -0.000000e+00\n",
       "1      1.000000e+06\n",
       "2      2.000274e+06\n",
       "3      3.000822e+06\n",
       "4      4.001644e+06\n",
       "...             ...\n",
       "72995  1.763592e+18\n",
       "72996  1.764075e+18\n",
       "72997  1.764558e+18\n",
       "72998  1.765042e+18\n",
       "72999  1.765525e+18\n",
       "\n",
       "[73000 rows x 1 columns]"
      ]
     },
     "execution_count": 5,
     "metadata": {},
     "output_type": "execute_result"
    }
   ],
   "source": [
    "df = pd.DataFrame.from_records(\n",
    "    enumerate(fv_array),\n",
    "    index='days',\n",
    "    columns=['days', 'value'])\n",
    "df"
   ]
  },
  {
   "cell_type": "code",
   "execution_count": 6,
   "metadata": {},
   "outputs": [
    {
     "data": {
      "text/plain": [
       "<matplotlib.axes._subplots.AxesSubplot at 0x7f8be8c8dc10>"
      ]
     },
     "execution_count": 6,
     "metadata": {},
     "output_type": "execute_result"
    },
    {
     "data": {
      "image/png": "[encoded data removed]",
      "text/plain": [
       "<Figure size 432x288 with 1 Axes>"
      ]
     },
     "metadata": {
      "needs_background": "light"
     },
     "output_type": "display_data"
    }
   ],
   "source": [
    "df.plot(title=f'at {interest_rate_annual*100} % APR')"
   ]
  },
  {
   "cell_type": "code",
   "execution_count": 7,
   "metadata": {},
   "outputs": [
    {
     "name": "stdout",
     "output_type": "stream",
     "text": [
      "0.02\n",
      "0.05\n",
      "0.1\n",
      "0.2\n"
     ]
    },
    {
     "data": {
      "text/html": [
       "<div>\n",
       "<style scoped>\n",
       "    .dataframe tbody tr th:only-of-type {\n",
       "        vertical-align: middle;\n",
       "    }\n",
       "\n",
       "    .dataframe tbody tr th {\n",
       "        vertical-align: top;\n",
       "    }\n",
       "\n",
       "    .dataframe thead th {\n",
       "        text-align: right;\n",
       "    }\n",
       "</style>\n",
       "<table border=\"1\" class=\"dataframe\">\n",
       "  <thead>\n",
       "    <tr style=\"text-align: right;\">\n",
       "      <th></th>\n",
       "      <th>0.02</th>\n",
       "      <th>0.05</th>\n",
       "      <th>0.1</th>\n",
       "      <th>0.2</th>\n",
       "    </tr>\n",
       "    <tr>\n",
       "      <th>days</th>\n",
       "      <th></th>\n",
       "      <th></th>\n",
       "      <th></th>\n",
       "      <th></th>\n",
       "    </tr>\n",
       "  </thead>\n",
       "  <tbody>\n",
       "    <tr>\n",
       "      <th>0</th>\n",
       "      <td>-0.000000e+00</td>\n",
       "      <td>-0.000000e+00</td>\n",
       "      <td>-0.000000e+00</td>\n",
       "      <td>-0.000000e+00</td>\n",
       "    </tr>\n",
       "    <tr>\n",
       "      <th>1</th>\n",
       "      <td>1.000000e+06</td>\n",
       "      <td>1.000000e+06</td>\n",
       "      <td>1.000000e+06</td>\n",
       "      <td>1.000000e+06</td>\n",
       "    </tr>\n",
       "    <tr>\n",
       "      <th>2</th>\n",
       "      <td>2.000055e+06</td>\n",
       "      <td>2.000137e+06</td>\n",
       "      <td>2.000274e+06</td>\n",
       "      <td>2.000548e+06</td>\n",
       "    </tr>\n",
       "    <tr>\n",
       "      <th>3</th>\n",
       "      <td>3.000164e+06</td>\n",
       "      <td>3.000411e+06</td>\n",
       "      <td>3.000822e+06</td>\n",
       "      <td>3.001644e+06</td>\n",
       "    </tr>\n",
       "    <tr>\n",
       "      <th>4</th>\n",
       "      <td>4.000329e+06</td>\n",
       "      <td>4.000822e+06</td>\n",
       "      <td>4.001644e+06</td>\n",
       "      <td>4.003289e+06</td>\n",
       "    </tr>\n",
       "    <tr>\n",
       "      <th>...</th>\n",
       "      <td>...</td>\n",
       "      <td>...</td>\n",
       "      <td>...</td>\n",
       "      <td>...</td>\n",
       "    </tr>\n",
       "    <tr>\n",
       "      <th>72995</th>\n",
       "      <td>9.777841e+11</td>\n",
       "      <td>1.605658e+14</td>\n",
       "      <td>1.763592e+18</td>\n",
       "      <td>4.237356e+26</td>\n",
       "    </tr>\n",
       "    <tr>\n",
       "      <th>72996</th>\n",
       "      <td>9.778387e+11</td>\n",
       "      <td>1.605878e+14</td>\n",
       "      <td>1.764075e+18</td>\n",
       "      <td>4.239678e+26</td>\n",
       "    </tr>\n",
       "    <tr>\n",
       "      <th>72997</th>\n",
       "      <td>9.778933e+11</td>\n",
       "      <td>1.606098e+14</td>\n",
       "      <td>1.764558e+18</td>\n",
       "      <td>4.242001e+26</td>\n",
       "    </tr>\n",
       "    <tr>\n",
       "      <th>72998</th>\n",
       "      <td>9.779479e+11</td>\n",
       "      <td>1.606318e+14</td>\n",
       "      <td>1.765042e+18</td>\n",
       "      <td>4.244325e+26</td>\n",
       "    </tr>\n",
       "    <tr>\n",
       "      <th>72999</th>\n",
       "      <td>9.780025e+11</td>\n",
       "      <td>1.606538e+14</td>\n",
       "      <td>1.765525e+18</td>\n",
       "      <td>4.246651e+26</td>\n",
       "    </tr>\n",
       "  </tbody>\n",
       "</table>\n",
       "<p>73000 rows × 4 columns</p>\n",
       "</div>"
      ],
      "text/plain": [
       "               0.02          0.05           0.1           0.2\n",
       "days                                                         \n",
       "0     -0.000000e+00 -0.000000e+00 -0.000000e+00 -0.000000e+00\n",
       "1      1.000000e+06  1.000000e+06  1.000000e+06  1.000000e+06\n",
       "2      2.000055e+06  2.000137e+06  2.000274e+06  2.000548e+06\n",
       "3      3.000164e+06  3.000411e+06  3.000822e+06  3.001644e+06\n",
       "4      4.000329e+06  4.000822e+06  4.001644e+06  4.003289e+06\n",
       "...             ...           ...           ...           ...\n",
       "72995  9.777841e+11  1.605658e+14  1.763592e+18  4.237356e+26\n",
       "72996  9.778387e+11  1.605878e+14  1.764075e+18  4.239678e+26\n",
       "72997  9.778933e+11  1.606098e+14  1.764558e+18  4.242001e+26\n",
       "72998  9.779479e+11  1.606318e+14  1.765042e+18  4.244325e+26\n",
       "72999  9.780025e+11  1.606538e+14  1.765525e+18  4.246651e+26\n",
       "\n",
       "[73000 rows x 4 columns]"
      ]
     },
     "execution_count": 7,
     "metadata": {},
     "output_type": "execute_result"
    }
   ],
   "source": [
    "data = {}\n",
    "for rate in [0.02, 0.05, 0.1, 0.2]:\n",
    "    print(rate)\n",
    "    rate_daily = annual_interest_to_daily_simple(rate)\n",
    "    data[str(rate)] = npf.fv(rate_daily, range(0, nper), pmt, pv)\n",
    "df = pd.DataFrame.from_records(data)\n",
    "df.index.name = 'days'\n",
    "df"
   ]
  },
  {
   "cell_type": "code",
   "execution_count": 8,
   "metadata": {},
   "outputs": [
    {
     "data": {
      "text/plain": [
       "<matplotlib.axes._subplots.AxesSubplot at 0x7f8be688cfd0>"
      ]
     },
     "execution_count": 8,
     "metadata": {},
     "output_type": "execute_result"
    },
    {
     "data": {
      "image/png": "[encoded data removed]",
      "text/plain": [
       "<Figure size 432x288 with 1 Axes>"
      ]
     },
     "metadata": {
      "needs_background": "light"
     },
     "output_type": "display_data"
    }
   ],
   "source": [
    "df[f'savings_target={savings_target:,}'] = savings_target\n",
    "df.plot(xlim=(0, nper), ylim=(0, savings_target*1.1), title=f'days until ${savings_target:,}')"
   ]
  },
  {
   "cell_type": "code",
   "execution_count": 9,
   "metadata": {},
   "outputs": [
    {
     "data": {
      "text/html": [
       "<div>\n",
       "<style scoped>\n",
       "    .dataframe tbody tr th:only-of-type {\n",
       "        vertical-align: middle;\n",
       "    }\n",
       "\n",
       "    .dataframe tbody tr th {\n",
       "        vertical-align: top;\n",
       "    }\n",
       "\n",
       "    .dataframe thead th {\n",
       "        text-align: right;\n",
       "    }\n",
       "</style>\n",
       "<table border=\"1\" class=\"dataframe\">\n",
       "  <thead>\n",
       "    <tr style=\"text-align: right;\">\n",
       "      <th>interest rate</th>\n",
       "      <th>days</th>\n",
       "      <th>years</th>\n",
       "      <th>value</th>\n",
       "      <th>value_without_interest</th>\n",
       "      <th>diff</th>\n",
       "    </tr>\n",
       "  </thead>\n",
       "  <tbody>\n",
       "    <tr>\n",
       "      <th>0.02</th>\n",
       "      <td>39,989.00</td>\n",
       "      <td>109.56</td>\n",
       "      <td>145,000,059,420.29</td>\n",
       "      <td>39,989,000,000.00</td>\n",
       "      <td>105,011,059,420.29</td>\n",
       "    </tr>\n",
       "    <tr>\n",
       "      <th>0.05</th>\n",
       "      <td>22,179.00</td>\n",
       "      <td>60.76</td>\n",
       "      <td>145,005,054,636.52</td>\n",
       "      <td>22,179,000,000.00</td>\n",
       "      <td>122,826,054,636.52</td>\n",
       "    </tr>\n",
       "    <tr>\n",
       "      <th>0.1</th>\n",
       "      <td>13,532.00</td>\n",
       "      <td>37.07</td>\n",
       "      <td>145,003,286,468.73</td>\n",
       "      <td>13,532,000,000.00</td>\n",
       "      <td>131,471,286,468.73</td>\n",
       "    </tr>\n",
       "    <tr>\n",
       "      <th>0.2</th>\n",
       "      <td>8,010.00</td>\n",
       "      <td>21.95</td>\n",
       "      <td>145,026,084,836.17</td>\n",
       "      <td>8,010,000,000.00</td>\n",
       "      <td>137,016,084,836.17</td>\n",
       "    </tr>\n",
       "    <tr>\n",
       "      <th>savings_target=145,000,000,000</th>\n",
       "      <td>None</td>\n",
       "      <td>None</td>\n",
       "      <td>None</td>\n",
       "      <td>None</td>\n",
       "      <td>None</td>\n",
       "    </tr>\n",
       "  </tbody>\n",
       "</table>\n",
       "</div>"
      ],
      "text/plain": [
       "interest rate                       days  years              value  \\\n",
       "0.02                           39,989.00 109.56 145,000,059,420.29   \n",
       "0.05                           22,179.00  60.76 145,005,054,636.52   \n",
       "0.1                            13,532.00  37.07 145,003,286,468.73   \n",
       "0.2                             8,010.00  21.95 145,026,084,836.17   \n",
       "savings_target=145,000,000,000      None   None               None   \n",
       "\n",
       "interest rate                  value_without_interest               diff  \n",
       "0.02                                39,989,000,000.00 105,011,059,420.29  \n",
       "0.05                                22,179,000,000.00 122,826,054,636.52  \n",
       "0.1                                 13,532,000,000.00 131,471,286,468.73  \n",
       "0.2                                  8,010,000,000.00 137,016,084,836.17  \n",
       "savings_target=145,000,000,000                   None               None  "
      ]
     },
     "execution_count": 9,
     "metadata": {},
     "output_type": "execute_result"
    }
   ],
   "source": [
    "summary_str = f\"If you saved ${pmt*-1:,} a day, you'd have ${savings_target:,} after\"\n",
    "\n",
    "years_until = {}\n",
    "for column in df:\n",
    "    col = df[column]\n",
    "    output = col[col > savings_target].head(1)\n",
    "    # print([column, output])\n",
    "    if output.empty:\n",
    "        days = None\n",
    "        years = None\n",
    "        value = None\n",
    "        value_without_interest = None\n",
    "    else:\n",
    "        days = output.index[0]\n",
    "        years = output.index[0] / 365\n",
    "        value = output.values[0]\n",
    "        value_without_interest = pmt * days * -1\n",
    "\n",
    "    years_until[column] = {'days': days, 'years': years, 'value': value,\n",
    "                           'value_without_interest': value_without_interest,\n",
    "                           'diff': value - value_without_interest if value else None}\n",
    "    if \".\" in column:\n",
    "        summary_str += f\" {years:.1f} years at {float(column)*100}% APR,\"\n",
    "\n",
    "#print(years_until)\n",
    "\n",
    "pd.options.display.float_format = '{:,.2f}'.format\n",
    "df_years_until = pd.DataFrame(years_until)\n",
    "df_years_until.index.name = 'interest rate'\n",
    "df_years_until.T"
   ]
  },
  {
   "cell_type": "code",
   "execution_count": 10,
   "metadata": {},
   "outputs": [
    {
     "name": "stdout",
     "output_type": "stream",
     "text": [
      "If you saved $1,000,000 a day, you'd have $145,000,000,000 after 109.6 years at 2.0% APR, 60.8 years at 5.0% APR, 37.1 years at 10.0% APR, 21.9 years at 20.0% APR.\n"
     ]
    }
   ],
   "source": [
    "print(f\"{summary_str.rstrip(',')}.\")"
   ]
  },
  {
   "cell_type": "markdown",
   "metadata": {},
   "source": [
    "https://numpy.org/doc/1.17/reference/generated/numpy.fv.html#numpy.fv"
   ]
  },
  {
   "cell_type": "code",
   "execution_count": 11,
   "metadata": {},
   "outputs": [
    {
     "data": {
      "text/plain": [
       "\u001b[0;31mSignature:\u001b[0m \u001b[0mnpf\u001b[0m\u001b[0;34m.\u001b[0m\u001b[0mfv\u001b[0m\u001b[0;34m(\u001b[0m\u001b[0mrate\u001b[0m\u001b[0;34m,\u001b[0m \u001b[0mnper\u001b[0m\u001b[0;34m,\u001b[0m \u001b[0mpmt\u001b[0m\u001b[0;34m,\u001b[0m \u001b[0mpv\u001b[0m\u001b[0;34m,\u001b[0m \u001b[0mwhen\u001b[0m\u001b[0;34m=\u001b[0m\u001b[0;34m'end'\u001b[0m\u001b[0;34m)\u001b[0m\u001b[0;34m\u001b[0m\u001b[0;34m\u001b[0m\u001b[0m\n",
       "\u001b[0;31mDocstring:\u001b[0m\n",
       "Compute the future value.\n",
       "\n",
       "Given:\n",
       " * a present value, `pv`\n",
       " * an interest `rate` compounded once per period, of which\n",
       "   there are\n",
       " * `nper` total\n",
       " * a (fixed) payment, `pmt`, paid either\n",
       " * at the beginning (`when` = {'begin', 1}) or the end\n",
       "   (`when` = {'end', 0}) of each period\n",
       "\n",
       "Return:\n",
       "   the value at the end of the `nper` periods\n",
       "\n",
       "Parameters\n",
       "----------\n",
       "rate : scalar or array_like of shape(M, )\n",
       "    Rate of interest as decimal (not per cent) per period\n",
       "nper : scalar or array_like of shape(M, )\n",
       "    Number of compounding periods\n",
       "pmt : scalar or array_like of shape(M, )\n",
       "    Payment\n",
       "pv : scalar or array_like of shape(M, )\n",
       "    Present value\n",
       "when : {{'begin', 1}, {'end', 0}}, {string, int}, optional\n",
       "    When payments are due ('begin' (1) or 'end' (0)).\n",
       "    Defaults to {'end', 0}.\n",
       "\n",
       "Returns\n",
       "-------\n",
       "out : ndarray\n",
       "    Future values.  If all input is scalar, returns a scalar float.  If\n",
       "    any input is array_like, returns future values for each input element.\n",
       "    If multiple inputs are array_like, they all must have the same shape.\n",
       "\n",
       "Notes\n",
       "-----\n",
       "The future value is computed by solving the equation::\n",
       "\n",
       " fv +\n",
       " pv*(1+rate)**nper +\n",
       " pmt*(1 + rate*when)/rate*((1 + rate)**nper - 1) == 0\n",
       "\n",
       "or, when ``rate == 0``::\n",
       "\n",
       " fv + pv + pmt * nper == 0\n",
       "\n",
       "References\n",
       "----------\n",
       ".. [WRW] Wheeler, D. A., E. Rathke, and R. Weir (Eds.) (2009, May).\n",
       "   Open Document Format for Office Applications (OpenDocument)v1.2,\n",
       "   Part 2: Recalculated Formula (OpenFormula) Format - Annotated Version,\n",
       "   Pre-Draft 12. Organization for the Advancement of Structured Information\n",
       "   Standards (OASIS). Billerica, MA, USA. [ODT Document].\n",
       "   Available:\n",
       "   http://www.oasis-open.org/committees/documents.php?wg_abbrev=office-formula\n",
       "   OpenDocument-formula-20090508.odt\n",
       "\n",
       "Examples\n",
       "--------\n",
       ">>> import numpy as np\n",
       ">>> import numpy_financial as npf\n",
       "\n",
       "What is the future value after 10 years of saving $100 now, with\n",
       "an additional monthly savings of $100.  Assume the interest rate is\n",
       "5% (annually) compounded monthly?\n",
       "\n",
       ">>> npf.fv(0.05/12, 10*12, -100, -100)\n",
       "15692.928894335748\n",
       "\n",
       "By convention, the negative sign represents cash flow out (i.e. money not\n",
       "available today).  Thus, saving $100 a month at 5% annual interest leads\n",
       "to $15,692.93 available to spend in 10 years.\n",
       "\n",
       "If any input is array_like, returns an array of equal shape.  Let's\n",
       "compare different interest rates from the example above.\n",
       "\n",
       ">>> a = np.array((0.05, 0.06, 0.07))/12\n",
       ">>> npf.fv(a, 10*12, -100, -100)\n",
       "array([ 15692.92889434,  16569.87435405,  17509.44688102]) # may vary\n",
       "\u001b[0;31mFile:\u001b[0m      ~/-wrk/-ce37/math/lib/python3.7/site-packages/numpy_financial/_financial.py\n",
       "\u001b[0;31mType:\u001b[0m      function\n"
      ]
     },
     "metadata": {},
     "output_type": "display_data"
    }
   ],
   "source": [
    "npf.fv?\n",
    "# help(npf.fv)"
   ]
  },
  {
   "cell_type": "markdown",
   "metadata": {},
   "source": [
    "## A symbolic solution (with SymPy)"
   ]
  },
  {
   "cell_type": "code",
   "execution_count": 12,
   "metadata": {},
   "outputs": [
    {
     "data": {
      "text/latex": [
       "$\\displaystyle fv + \\frac{pmt \\left(rate when + 1\\right) \\left(\\left(rate + 1\\right)^{nper} - 1\\right)}{rate} + pv \\left(rate + 1\\right)^{nper} = 0$"
      ],
      "text/plain": [
       "Eq(fv + pmt*(rate*when + 1)*((rate + 1)**nper - 1)/rate + pv*(rate + 1)**nper, 0)"
      ]
     },
     "execution_count": 12,
     "metadata": {},
     "output_type": "execute_result"
    }
   ],
   "source": [
    "import sympy as sy\n",
    "fv, pv, pmt, rate, when, nper = sy.var('fv pv pmt rate when nper')\n",
    "fveq = sy.Eq(fv + pv*(1+rate)**nper + pmt*(1 + rate*when)/rate*((1 + rate)**nper - 1), 0)\n",
    "fveq"
   ]
  },
  {
   "cell_type": "code",
   "execution_count": 13,
   "metadata": {},
   "outputs": [
    {
     "name": "stdout",
     "output_type": "stream",
     "text": [
      "Eq(fv + pmt*(rate*when + 1)*((rate + 1)**nper - 1)/rate + pv*(rate + 1)**nper, 0)\n",
      "[(log((-fv*rate + pmt*rate*when + pmt)/(pmt*rate*when + pmt + pv*rate))/log(rate + 1), rate)]\n",
      "log((-fv*rate + pmt*rate*when + pmt)/(pmt*rate*when + pmt + pv*rate))/log(rate + 1)\n"
     ]
    }
   ],
   "source": [
    "# Solve in terms of nper, rate\n",
    "fveq__nper_rate = sy.solve(fveq, [nper, rate])\n",
    "print(fveq)\n",
    "print(fveq__nper_rate)\n",
    "if tuple(int(x) for x in sy.__version__.split('.')) < (1,5,1):  # ? colab has 1.1.1\n",
    "    fveq__nper_rate = fveq__nper_rate[0][nper]\n",
    "else:\n",
    "    fveq__nper_rate = fveq__nper_rate[0][0]\n",
    "print(fveq__nper_rate)"
   ]
  },
  {
   "cell_type": "code",
   "execution_count": 14,
   "metadata": {},
   "outputs": [
    {
     "name": "stdout",
     "output_type": "stream",
     "text": [
      "{fv: 145000000000, pv: 0, pmt: -1000000, when: 0}\n",
      "{0.02: 109.558885909925, 0.05: 60.7637197535231, 0.1: 37.0737514871950, 0.2: 21.9443170182029}\n"
     ]
    }
   ],
   "source": [
    "BEGIN, END = 1, 0\n",
    "vals = {fv: savings_target, pv: 0, pmt: pmt_, when: END}\n",
    "print(vals)\n",
    "\n",
    "data = {}\n",
    "for annual_interest_rate in [0.02, 0.05, 0.1, 0.2]:\n",
    "    data[annual_interest_rate] = (fveq__nper_rate\n",
    "        .subs(vals)\n",
    "        .subs({rate: annual_interest_to_daily_simple(annual_interest_rate)}) / 365)\n",
    "print(data)"
   ]
  }
 ],
 "metadata": {
  "kernelspec": {
   "display_name": "Python 3",
   "language": "python",
   "name": "python3"
  },
  "language_info": {
   "codemirror_mode": {
    "name": "ipython",
    "version": 3
   },
   "file_extension": ".py",
   "mimetype": "text/x-python",
   "name": "python",
   "nbconvert_exporter": "python",
   "pygments_lexer": "ipython3",
   "version": "3.7.6"
  }
 },
 "nbformat": 4,
 "nbformat_minor": 4
}
