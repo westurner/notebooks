{
 "cells": [
  {
   "cell_type": "markdown",
   "metadata": {},
   "source": [
    "# COVID-19 Exploratory Analysis\n",
    "- Credentials / Background:\n",
    "  - @westurner: None\n",
    "- Datasets:\n",
    "  - https://github.com/CSSEGISandData/COVID-19"
   ]
  },
  {
   "cell_type": "code",
   "execution_count": 2,
   "metadata": {},
   "outputs": [],
   "source": [
    "#!conda install -y pandas matplotlib\n",
    "#!git clone https://github.com/CSSEGISandData/COVID-19"
   ]
  },
  {
   "cell_type": "code",
   "execution_count": 2,
   "metadata": {},
   "outputs": [],
   "source": [
    "from pathlib import Path\n",
    "import pandas as pd\n"
   ]
  },
  {
   "cell_type": "code",
   "execution_count": 3,
   "metadata": {},
   "outputs": [
    {
     "data": {
      "text/plain": [
       "(   UID iso2 iso3  code3  FIPS Admin2            Province_State Country_Region  \\\n",
       " 0   16   AS  ASM     16  60.0    NaN            American Samoa             US   \n",
       " 1  316   GU  GUM    316  66.0    NaN                      Guam             US   \n",
       " 2  580   MP  MNP    580  69.0    NaN  Northern Mariana Islands             US   \n",
       " 3  630   PR  PRI    630  72.0    NaN               Puerto Rico             US   \n",
       " 4  850   VI  VIR    850  78.0    NaN            Virgin Islands             US   \n",
       " \n",
       "        Lat     Long_  ... 4/8/2020  4/9/2020  4/10/2020  4/11/2020  4/12/2020  \\\n",
       " 0 -14.2710 -170.1320  ...        0         0          0          0          0   \n",
       " 1  13.4443  144.7937  ...      121       128        130        133        133   \n",
       " 2  15.0979  145.6739  ...       11        11         11         11         11   \n",
       " 3  18.2208  -66.5901  ...      620       683        725        788        897   \n",
       " 4  18.3358  -64.8963  ...       45        45         50         51         51   \n",
       " \n",
       "    4/13/2020  4/14/2020  4/15/2020  4/16/2020  4/17/2020  \n",
       " 0          0          0          0          0          0  \n",
       " 1        133        133        135        135        136  \n",
       " 2         11         11         13         13         13  \n",
       " 3        903        923        974       1043       1068  \n",
       " 4         51         51         51         51         51  \n",
       " \n",
       " [5 rows x 98 columns],\n",
       "    UID iso2 iso3  code3  FIPS Admin2            Province_State Country_Region  \\\n",
       " 0   16   AS  ASM     16  60.0    NaN            American Samoa             US   \n",
       " 1  316   GU  GUM    316  66.0    NaN                      Guam             US   \n",
       " 2  580   MP  MNP    580  69.0    NaN  Northern Mariana Islands             US   \n",
       " 3  630   PR  PRI    630  72.0    NaN               Puerto Rico             US   \n",
       " 4  850   VI  VIR    850  78.0    NaN            Virgin Islands             US   \n",
       " \n",
       "        Lat     Long_  ... 4/8/2020  4/9/2020  4/10/2020  4/11/2020  4/12/2020  \\\n",
       " 0 -14.2710 -170.1320  ...        0         0          0          0          0   \n",
       " 1  13.4443  144.7937  ...        4         4          4          5          5   \n",
       " 2  15.0979  145.6739  ...        2         2          2          2          2   \n",
       " 3  18.2208  -66.5901  ...       24        33         39         42         44   \n",
       " 4  18.3358  -64.8963  ...        1         1          1          1          1   \n",
       " \n",
       "    4/13/2020  4/14/2020  4/15/2020  4/16/2020  4/17/2020  \n",
       " 0          0          0          0          0          0  \n",
       " 1          5          5          5          5          5  \n",
       " 2          2          2          2          2          2  \n",
       " 3         45         45         51         56         58  \n",
       " 4          1          1          1          1          2  \n",
       " \n",
       " [5 rows x 99 columns])"
      ]
     },
     "execution_count": 3,
     "metadata": {},
     "output_type": "execute_result"
    }
   ],
   "source": [
    "csse_timeseries = Path('./COVID-19/csse_covid_19_data/csse_covid_19_time_series/')\n",
    "confirmed_us = pd.read_csv(csse_timeseries / 'time_series_covid19_confirmed_US.csv')\n",
    "deaths_us = pd.read_csv(csse_timeseries / 'time_series_covid19_deaths_US.csv')\n",
    "confirmed_us.head(), deaths_us.head()"
   ]
  }
 ],
 "metadata": {
  "kernelspec": {
   "display_name": "Python 3",
   "language": "python",
   "name": "python3"
  },
  "language_info": {
   "codemirror_mode": {
    "name": "ipython",
    "version": 3
   },
   "file_extension": ".py",
   "mimetype": "text/x-python",
   "name": "python",
   "nbconvert_exporter": "python",
   "pygments_lexer": "ipython3",
   "version": "3.7.6"
  }
 },
 "nbformat": 4,
 "nbformat_minor": 4
}
