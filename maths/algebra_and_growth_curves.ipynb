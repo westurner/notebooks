{
 "cells": [
  {
   "cell_type": "markdown",
   "metadata": {},
   "source": [
    "# Growth Curves\n",
    "- https://en.wikipedia.org/wiki/Growth_curve\n",
    "- https://docs.sympy.org/latest/modules/core.html#sympy.core.symbol.var\n",
    "- https://docs.sympy.org/latest/modules/plotting.html\n",
    "- https://matplotlib.org/3.2.1/gallery/color/named_colors.html\n",
    "- https://docs.scipy.org/doc/numpy/reference/arrays.ndarray.html\n",
    "- https://docs.scipy.org/doc/numpy/reference/generated/numpy.arange.html#numpy.arange\n",
    "- https://docs.sympy.org/latest/modules/utilities/lambdify.html#sympy.utilities.lambdify.lambdify"
   ]
  },
  {
   "cell_type": "markdown",
   "metadata": {
    "toc": true
   },
   "source": [
    "<h1>Table of Contents<span class=\"tocSkip\"></span></h1>\n",
    "<div class=\"toc\"><ul class=\"toc-item\"><li><span><a href=\"#Polynomials\" data-toc-modified-id=\"Polynomials-1\"><span class=\"toc-item-num\">1&nbsp;&nbsp;</span>Polynomials</a></span><ul class=\"toc-item\"><li><span><a href=\"#Constant\" data-toc-modified-id=\"Constant-1.1\"><span class=\"toc-item-num\">1.1&nbsp;&nbsp;</span>Constant</a></span></li><li><span><a href=\"#Linear\" data-toc-modified-id=\"Linear-1.2\"><span class=\"toc-item-num\">1.2&nbsp;&nbsp;</span>Linear</a></span></li><li><span><a href=\"#Quadratic\" data-toc-modified-id=\"Quadratic-1.3\"><span class=\"toc-item-num\">1.3&nbsp;&nbsp;</span>Quadratic</a></span></li><li><span><a href=\"#Cubic\" data-toc-modified-id=\"Cubic-1.4\"><span class=\"toc-item-num\">1.4&nbsp;&nbsp;</span>Cubic</a></span></li><li><span><a href=\"#Quartic\" data-toc-modified-id=\"Quartic-1.5\"><span class=\"toc-item-num\">1.5&nbsp;&nbsp;</span>Quartic</a></span></li><li><span><a href=\"#Quintic\" data-toc-modified-id=\"Quintic-1.6\"><span class=\"toc-item-num\">1.6&nbsp;&nbsp;</span>Quintic</a></span></li><li><span><a href=\"#Sextic\" data-toc-modified-id=\"Sextic-1.7\"><span class=\"toc-item-num\">1.7&nbsp;&nbsp;</span>Sextic</a></span></li><li><span><a href=\"#Septic\" data-toc-modified-id=\"Septic-1.8\"><span class=\"toc-item-num\">1.8&nbsp;&nbsp;</span>Septic</a></span></li><li><span><a href=\"#Octic\" data-toc-modified-id=\"Octic-1.9\"><span class=\"toc-item-num\">1.9&nbsp;&nbsp;</span>Octic</a></span></li><li><span><a href=\"#Nonic\" data-toc-modified-id=\"Nonic-1.10\"><span class=\"toc-item-num\">1.10&nbsp;&nbsp;</span>Nonic</a></span></li><li><span><a href=\"#Decic\" data-toc-modified-id=\"Decic-1.11\"><span class=\"toc-item-num\">1.11&nbsp;&nbsp;</span>Decic</a></span></li><li><span><a href=\"#Univariate-Polynomials-Summary\" data-toc-modified-id=\"Univariate-Polynomials-Summary-1.12\"><span class=\"toc-item-num\">1.12&nbsp;&nbsp;</span>Univariate Polynomials Summary</a></span></li></ul></li><li><span><a href=\"#Exponential-Functions\" data-toc-modified-id=\"Exponential-Functions-2\"><span class=\"toc-item-num\">2&nbsp;&nbsp;</span>Exponential Functions</a></span></li><li><span><a href=\"#Trigonometric-Functions\" data-toc-modified-id=\"Trigonometric-Functions-3\"><span class=\"toc-item-num\">3&nbsp;&nbsp;</span>Trigonometric Functions</a></span><ul class=\"toc-item\"><li><ul class=\"toc-item\"><li><span><a href=\"#Degrees-and-Radians\" data-toc-modified-id=\"Degrees-and-Radians-3.0.1\"><span class=\"toc-item-num\">3.0.1&nbsp;&nbsp;</span>Degrees and Radians</a></span></li></ul></li></ul></li></ul></div>"
   ]
  },
  {
   "cell_type": "code",
   "execution_count": 1,
   "metadata": {},
   "outputs": [],
   "source": [
    "import itertools\n",
    "import matplotlib.pyplot as plt\n",
    "import pandas as pd\n",
    "import pytest\n",
    "import sympy\n",
    "%matplotlib inline\n",
    "import warnings\n",
    "warnings.filterwarnings('ignore')\n",
    "from IPython.display import display"
   ]
  },
  {
   "cell_type": "code",
   "execution_count": 2,
   "metadata": {},
   "outputs": [],
   "source": [
    "curves = {}"
   ]
  },
  {
   "cell_type": "code",
   "execution_count": 3,
   "metadata": {},
   "outputs": [],
   "source": [
    "# sympy.plotting.plot?"
   ]
  },
  {
   "cell_type": "code",
   "execution_count": 4,
   "metadata": {},
   "outputs": [
    {
     "data": {
      "text/html": [
       "<style>\n",
       "    table { display: inline-block; }\n",
       "    td, tr, th { font-size: 1em; }\n",
       "</style>\n"
      ],
      "text/plain": [
       "<IPython.core.display.HTML object>"
      ]
     },
     "metadata": {},
     "output_type": "display_data"
    }
   ],
   "source": [
    "%%html\n",
    "<style>\n",
    "    table { display: inline-block; }\n",
    "    td, tr, th { font-size: 1em; }\n",
    "</style>"
   ]
  },
  {
   "cell_type": "markdown",
   "metadata": {},
   "source": [
    "## Polynomials\n",
    "- https://en.wikipedia.org/wiki/Polynomial\n",
    "- https://en.wikipedia.org/wiki/Degree_of_a_polynomial\n",
    "\n",
    "| polynomial name          | degree   | example equation | graph shape |\n",
    "|--------------------------|----------|------------------|-------------|\n",
    "| Constant                 | 0        | $y = 1$          | line        |\n",
    "| [Linear](#Linear)        | 1        | $y = m*x + b$    | line        |\n",
    "| [Quadratic](#Quadratic)  | 2        | $y = x^2$        | parabola    |\n",
    "| [Cubic](#Cubic)          | 3        | $y = x^3$        | hyperbola   |\n",
    "| [Quartic](#Quartic)      | 4        | $y = x^4$        |             |\n",
    "| [Quintic](#Quintic)      | 5        | $y = x^5$        |             |\n",
    "| [Sextic](#Sextic)        | 6        | $y = x^6$        |             |\n",
    "| [Septic](#Septic)        | 7        | $y = x^7$        |             |\n",
    "| [Octic](#Octic)          | 8        | $y = x^8$        |             |\n",
    "| Nonic                    | 9        | $y = x^9$        |             |\n",
    "| Decic                    | 10       | $y = x^{10}$     |             |"
   ]
  },
  {
   "cell_type": "markdown",
   "metadata": {},
   "source": [
    "### Constant"
   ]
  },
  {
   "cell_type": "code",
   "execution_count": 5,
   "metadata": {},
   "outputs": [
    {
     "data": {
      "text/latex": [
       "$\\displaystyle y = 1$"
      ],
      "text/plain": [
       "Eq(y, 1)"
      ]
     },
     "metadata": {},
     "output_type": "display_data"
    },
    {
     "data": {
      "image/png": "[encoded data removed]",
      "text/plain": [
       "<Figure size 432x288 with 1 Axes>"
      ]
     },
     "metadata": {
      "needs_background": "light"
     },
     "output_type": "display_data"
    },
    {
     "data": {
      "text/plain": [
       "<sympy.plotting.plot.Plot at 0x7f18ceec0510>"
      ]
     },
     "execution_count": 5,
     "metadata": {},
     "output_type": "execute_result"
    }
   ],
   "source": [
    "from sympy.abc import y\n",
    "constant1 = sympy.Eq(y, 1)\n",
    "display(constant1)\n",
    "sympy.plotting.plot(constant1.rhs,\n",
    "    title='Constant (0) function\\n',\n",
    "    xlim=(-10, 10),\n",
    "    ylim=(0, 2),\n",
    "    legend=True)"
   ]
  },
  {
   "cell_type": "markdown",
   "metadata": {},
   "source": [
    "### Linear\n",
    "- https://en.wikipedia.org/wiki/Linear_equation"
   ]
  },
  {
   "cell_type": "code",
   "execution_count": 6,
   "metadata": {},
   "outputs": [
    {
     "data": {
      "text/plain": [
       "sympy.core.power.Pow"
      ]
     },
     "metadata": {},
     "output_type": "display_data"
    },
    {
     "data": {
      "text/plain": [
       "'x**2'"
      ]
     },
     "metadata": {},
     "output_type": "display_data"
    },
    {
     "data": {
      "text/latex": [
       "$\\displaystyle x^{2}$"
      ],
      "text/plain": [
       "x**2"
      ]
     },
     "metadata": {},
     "output_type": "display_data"
    }
   ],
   "source": [
    "x = sympy.var('x')\n",
    "expression = x**2\n",
    "display(type(expression), str(expression), expression)"
   ]
  },
  {
   "cell_type": "code",
   "execution_count": 7,
   "metadata": {},
   "outputs": [
    {
     "data": {
      "text/plain": [
       "sympy.core.relational.Equality"
      ]
     },
     "metadata": {},
     "output_type": "display_data"
    },
    {
     "data": {
      "text/plain": [
       "'Eq(y, x**2)'"
      ]
     },
     "metadata": {},
     "output_type": "display_data"
    },
    {
     "data": {
      "text/latex": [
       "$\\displaystyle y = x^{2}$"
      ],
      "text/plain": [
       "Eq(y, x**2)"
      ]
     },
     "metadata": {},
     "output_type": "display_data"
    }
   ],
   "source": [
    "x, y = sympy.var('x y')\n",
    "equality = sympy.Eq(y, x**2)\n",
    "display(type(equality), str(equality), equality)"
   ]
  },
  {
   "cell_type": "code",
   "execution_count": 8,
   "metadata": {},
   "outputs": [
    {
     "data": {
      "text/plain": [
       "('y', 'x**2')"
      ]
     },
     "metadata": {},
     "output_type": "display_data"
    },
    {
     "data": {
      "text/plain": [
       "(y, x**2)"
      ]
     },
     "metadata": {},
     "output_type": "display_data"
    },
    {
     "data": {
      "text/latex": [
       "$\\displaystyle y$"
      ],
      "text/plain": [
       "y"
      ]
     },
     "metadata": {},
     "output_type": "display_data"
    },
    {
     "data": {
      "text/latex": [
       "$\\displaystyle x^{2}$"
      ],
      "text/plain": [
       "x**2"
      ]
     },
     "metadata": {},
     "output_type": "display_data"
    }
   ],
   "source": [
    "# .lhs = left-hand side, .rhs = right-hand side\n",
    "display((str(equality.lhs), str(equality.rhs)))\n",
    "display((equality.lhs, equality.rhs))\n",
    "display(equality.lhs, equality.rhs)"
   ]
  },
  {
   "cell_type": "code",
   "execution_count": 9,
   "metadata": {},
   "outputs": [
    {
     "data": {
      "image/png": "[encoded data removed]",
      "text/plain": [
       "<Figure size 432x288 with 1 Axes>"
      ]
     },
     "metadata": {
      "needs_background": "light"
     },
     "output_type": "display_data"
    }
   ],
   "source": [
    "x, y = sympy.var('x y')\n",
    "linear1 = curves['linear1'] = sympy.Eq(y, x)\n",
    "linear2 = curves['linear2'] = sympy.Eq(y, 2*x)\n",
    "linear4 = curves['linear3'] = sympy.Eq(y, 2*x + 5)\n",
    "linear3 = curves['linear4'] = sympy.Eq(y, -1*x)\n",
    "linear_curves = {k:v for k,v in curves.items() if k.startswith('linear')}\n",
    "plot1 = sympy.plotting.plot(\n",
    "    *[v.rhs for v in linear_curves.values()],\n",
    "    title='Linear growth',\n",
    "    range=(x, -10, 10),\n",
    "    xlim=(-10, 10),\n",
    "    ylim=(-10, 10),\n",
    "    legend=True,\n",
    "    show=False)\n",
    "plot1[0].line_color = 'tab:red'\n",
    "plot1[1].line_color = 'tab:blue'\n",
    "plot1[2].line_color = 'tab:orange'\n",
    "plot1[3].line_color = 'tab:green'\n",
    "plot1.show()"
   ]
  },
  {
   "cell_type": "code",
   "execution_count": 10,
   "metadata": {},
   "outputs": [
    {
     "name": "stdout",
     "output_type": "stream",
     "text": [
      "linear1\tEq(y, x)\tEq(y, 10)\n",
      "linear2\tEq(y, 2*x)\tEq(y, 20)\n",
      "linear3\tEq(y, 2*x + 5)\tEq(y, 25)\n",
      "linear4\tEq(y, -x)\tEq(y, -10)\n"
     ]
    }
   ],
   "source": [
    "xval = dict(x=10)\n",
    "results = ((k, v, v.subs(xval)) for k, v in linear_curves.items())\n",
    "for key, eq, eq_subs in results:\n",
    "    print(f'{key}\\t{eq}\\t{eq_subs}')"
   ]
  },
  {
   "cell_type": "code",
   "execution_count": 11,
   "metadata": {},
   "outputs": [
    {
     "name": "stdout",
     "output_type": "stream",
     "text": [
      "{'x': 10}\n"
     ]
    },
    {
     "data": {
      "text/plain": [
       "{'x': 10}"
      ]
     },
     "metadata": {},
     "output_type": "display_data"
    },
    {
     "name": "stdout",
     "output_type": "stream",
     "text": [
      "\n"
     ]
    },
    {
     "data": {
      "text/plain": [
       "'linear1'"
      ]
     },
     "metadata": {},
     "output_type": "display_data"
    },
    {
     "data": {
      "text/latex": [
       "$\\displaystyle y = x$"
      ],
      "text/plain": [
       "Eq(y, x)"
      ]
     },
     "metadata": {},
     "output_type": "display_data"
    },
    {
     "data": {
      "text/latex": [
       "$\\displaystyle y = 10$"
      ],
      "text/plain": [
       "Eq(y, 10)"
      ]
     },
     "metadata": {},
     "output_type": "display_data"
    },
    {
     "name": "stdout",
     "output_type": "stream",
     "text": [
      "\n"
     ]
    },
    {
     "data": {
      "text/plain": [
       "'linear2'"
      ]
     },
     "metadata": {},
     "output_type": "display_data"
    },
    {
     "data": {
      "text/latex": [
       "$\\displaystyle y = 2 x$"
      ],
      "text/plain": [
       "Eq(y, 2*x)"
      ]
     },
     "metadata": {},
     "output_type": "display_data"
    },
    {
     "data": {
      "text/latex": [
       "$\\displaystyle y = 20$"
      ],
      "text/plain": [
       "Eq(y, 20)"
      ]
     },
     "metadata": {},
     "output_type": "display_data"
    },
    {
     "name": "stdout",
     "output_type": "stream",
     "text": [
      "\n"
     ]
    },
    {
     "data": {
      "text/plain": [
       "'linear3'"
      ]
     },
     "metadata": {},
     "output_type": "display_data"
    },
    {
     "data": {
      "text/latex": [
       "$\\displaystyle y = 2 x + 5$"
      ],
      "text/plain": [
       "Eq(y, 2*x + 5)"
      ]
     },
     "metadata": {},
     "output_type": "display_data"
    },
    {
     "data": {
      "text/latex": [
       "$\\displaystyle y = 25$"
      ],
      "text/plain": [
       "Eq(y, 25)"
      ]
     },
     "metadata": {},
     "output_type": "display_data"
    },
    {
     "name": "stdout",
     "output_type": "stream",
     "text": [
      "\n"
     ]
    },
    {
     "data": {
      "text/plain": [
       "'linear4'"
      ]
     },
     "metadata": {},
     "output_type": "display_data"
    },
    {
     "data": {
      "text/latex": [
       "$\\displaystyle y = - x$"
      ],
      "text/plain": [
       "Eq(y, -x)"
      ]
     },
     "metadata": {},
     "output_type": "display_data"
    },
    {
     "data": {
      "text/latex": [
       "$\\displaystyle y = -10$"
      ],
      "text/plain": [
       "Eq(y, -10)"
      ]
     },
     "metadata": {},
     "output_type": "display_data"
    },
    {
     "name": "stdout",
     "output_type": "stream",
     "text": [
      "\n"
     ]
    }
   ],
   "source": [
    "xval = dict(x=10)\n",
    "print(xval)\n",
    "display(xval)\n",
    "print(\"\")\n",
    "\n",
    "for key, eq in linear_curves.items():\n",
    "    yval = eq.subs(xval)\n",
    "    display(key, eq, yval)\n",
    "    print(\"\")"
   ]
  },
  {
   "cell_type": "code",
   "execution_count": 12,
   "metadata": {},
   "outputs": [
    {
     "data": {
      "text/plain": [
       "array([-10,  -9,  -8,  -7,  -6,  -5,  -4,  -3,  -2,  -1,   0,   1,   2,\n",
       "         3,   4,   5,   6,   7,   8,   9,  10])"
      ]
     },
     "execution_count": 12,
     "metadata": {},
     "output_type": "execute_result"
    }
   ],
   "source": [
    "import numpy as np\n",
    "xval_ary = np.arange(-10, 10+1)\n",
    "xval_ary"
   ]
  },
  {
   "cell_type": "markdown",
   "metadata": {},
   "source": [
    "`Sympy.Eq.subs` sort of sometimes works with tuples?"
   ]
  },
  {
   "cell_type": "code",
   "execution_count": 13,
   "metadata": {},
   "outputs": [
    {
     "data": {
      "text/latex": [
       "$\\displaystyle y = \\left( -10, \\  -9, \\  -8, \\  -7, \\  -6, \\  -5, \\  -4, \\  -3, \\  -2, \\  -1, \\  0, \\  1, \\  2, \\  3, \\  4, \\  5, \\  6, \\  7, \\  8, \\  9, \\  10\\right)$"
      ],
      "text/plain": [
       "Eq(y, (-10, -9, -8, -7, -6, -5, -4, -3, -2, -1, 0, 1, 2, 3, 4, 5, 6, 7, 8, 9, 10))"
      ]
     },
     "execution_count": 13,
     "metadata": {},
     "output_type": "execute_result"
    }
   ],
   "source": [
    "xval = dict(x=tuple(range(-10, 10+1)))\n",
    "#xval = {'x': list(range(-10, 10+1))}\n",
    "linear1.subs(xval)"
   ]
  },
  {
   "cell_type": "code",
   "execution_count": 14,
   "metadata": {},
   "outputs": [],
   "source": [
    "## Sort of?\n",
    "import pytest\n",
    "with pytest.raises(AttributeError):\n",
    "    linear2.subs(xval)"
   ]
  },
  {
   "cell_type": "markdown",
   "metadata": {},
   "source": [
    "`Sympy.Eq.subs` doesn't work with arrays either:"
   ]
  },
  {
   "cell_type": "code",
   "execution_count": 15,
   "metadata": {},
   "outputs": [
    {
     "data": {
      "text/latex": [
       "$\\displaystyle y = 2 x$"
      ],
      "text/plain": [
       "Eq(y, 2*x)"
      ]
     },
     "execution_count": 15,
     "metadata": {},
     "output_type": "execute_result"
    }
   ],
   "source": [
    "xval = dict(x=xval_ary)\n",
    "linear2.subs(xval)"
   ]
  },
  {
   "cell_type": "markdown",
   "metadata": {},
   "source": [
    "Instead, with SymPy expressions, we can `lambdify`\n",
    "in order to *vectorize* calculations with multiple values in an array instead of calling `Eq.subs` a bunch of times (which is slow):"
   ]
  },
  {
   "cell_type": "code",
   "execution_count": 16,
   "metadata": {},
   "outputs": [
    {
     "data": {
      "text/plain": [
       "<function _lambdifygenerated(x)>"
      ]
     },
     "execution_count": 16,
     "metadata": {},
     "output_type": "execute_result"
    }
   ],
   "source": [
    "linear2_func = sympy.lambdify(x, linear2.rhs, 'numpy')\n",
    "linear2_func"
   ]
  },
  {
   "cell_type": "code",
   "execution_count": 17,
   "metadata": {},
   "outputs": [
    {
     "data": {
      "text/plain": [
       "(numpy.ndarray,\n",
       " array([-20, -18, -16, -14, -12, -10,  -8,  -6,  -4,  -2,   0,   2,   4,\n",
       "          6,   8,  10,  12,  14,  16,  18,  20]))"
      ]
     },
     "execution_count": 17,
     "metadata": {},
     "output_type": "execute_result"
    }
   ],
   "source": [
    "ary = linear2_func(xval_ary)\n",
    "type(ary), ary"
   ]
  },
  {
   "cell_type": "markdown",
   "metadata": {},
   "source": [
    "We can create a `pandas.DataFrame` with a column for each function and an index:"
   ]
  },
  {
   "cell_type": "code",
   "execution_count": 18,
   "metadata": {},
   "outputs": [
    {
     "data": {
      "text/html": [
       "<div>\n",
       "<style scoped>\n",
       "    .dataframe tbody tr th:only-of-type {\n",
       "        vertical-align: middle;\n",
       "    }\n",
       "\n",
       "    .dataframe tbody tr th {\n",
       "        vertical-align: top;\n",
       "    }\n",
       "\n",
       "    .dataframe thead th {\n",
       "        text-align: right;\n",
       "    }\n",
       "</style>\n",
       "<table border=\"1\" class=\"dataframe\">\n",
       "  <thead>\n",
       "    <tr style=\"text-align: right;\">\n",
       "      <th></th>\n",
       "      <th>linear1</th>\n",
       "      <th>linear2</th>\n",
       "      <th>linear3</th>\n",
       "      <th>linear4</th>\n",
       "    </tr>\n",
       "  </thead>\n",
       "  <tbody>\n",
       "    <tr>\n",
       "      <th>-10</th>\n",
       "      <td>-10</td>\n",
       "      <td>-20</td>\n",
       "      <td>-15</td>\n",
       "      <td>10</td>\n",
       "    </tr>\n",
       "    <tr>\n",
       "      <th>-9</th>\n",
       "      <td>-9</td>\n",
       "      <td>-18</td>\n",
       "      <td>-13</td>\n",
       "      <td>9</td>\n",
       "    </tr>\n",
       "    <tr>\n",
       "      <th>-8</th>\n",
       "      <td>-8</td>\n",
       "      <td>-16</td>\n",
       "      <td>-11</td>\n",
       "      <td>8</td>\n",
       "    </tr>\n",
       "    <tr>\n",
       "      <th>-7</th>\n",
       "      <td>-7</td>\n",
       "      <td>-14</td>\n",
       "      <td>-9</td>\n",
       "      <td>7</td>\n",
       "    </tr>\n",
       "    <tr>\n",
       "      <th>-6</th>\n",
       "      <td>-6</td>\n",
       "      <td>-12</td>\n",
       "      <td>-7</td>\n",
       "      <td>6</td>\n",
       "    </tr>\n",
       "    <tr>\n",
       "      <th>-5</th>\n",
       "      <td>-5</td>\n",
       "      <td>-10</td>\n",
       "      <td>-5</td>\n",
       "      <td>5</td>\n",
       "    </tr>\n",
       "    <tr>\n",
       "      <th>-4</th>\n",
       "      <td>-4</td>\n",
       "      <td>-8</td>\n",
       "      <td>-3</td>\n",
       "      <td>4</td>\n",
       "    </tr>\n",
       "    <tr>\n",
       "      <th>-3</th>\n",
       "      <td>-3</td>\n",
       "      <td>-6</td>\n",
       "      <td>-1</td>\n",
       "      <td>3</td>\n",
       "    </tr>\n",
       "    <tr>\n",
       "      <th>-2</th>\n",
       "      <td>-2</td>\n",
       "      <td>-4</td>\n",
       "      <td>1</td>\n",
       "      <td>2</td>\n",
       "    </tr>\n",
       "    <tr>\n",
       "      <th>-1</th>\n",
       "      <td>-1</td>\n",
       "      <td>-2</td>\n",
       "      <td>3</td>\n",
       "      <td>1</td>\n",
       "    </tr>\n",
       "    <tr>\n",
       "      <th>0</th>\n",
       "      <td>0</td>\n",
       "      <td>0</td>\n",
       "      <td>5</td>\n",
       "      <td>0</td>\n",
       "    </tr>\n",
       "    <tr>\n",
       "      <th>1</th>\n",
       "      <td>1</td>\n",
       "      <td>2</td>\n",
       "      <td>7</td>\n",
       "      <td>-1</td>\n",
       "    </tr>\n",
       "    <tr>\n",
       "      <th>2</th>\n",
       "      <td>2</td>\n",
       "      <td>4</td>\n",
       "      <td>9</td>\n",
       "      <td>-2</td>\n",
       "    </tr>\n",
       "    <tr>\n",
       "      <th>3</th>\n",
       "      <td>3</td>\n",
       "      <td>6</td>\n",
       "      <td>11</td>\n",
       "      <td>-3</td>\n",
       "    </tr>\n",
       "    <tr>\n",
       "      <th>4</th>\n",
       "      <td>4</td>\n",
       "      <td>8</td>\n",
       "      <td>13</td>\n",
       "      <td>-4</td>\n",
       "    </tr>\n",
       "    <tr>\n",
       "      <th>5</th>\n",
       "      <td>5</td>\n",
       "      <td>10</td>\n",
       "      <td>15</td>\n",
       "      <td>-5</td>\n",
       "    </tr>\n",
       "    <tr>\n",
       "      <th>6</th>\n",
       "      <td>6</td>\n",
       "      <td>12</td>\n",
       "      <td>17</td>\n",
       "      <td>-6</td>\n",
       "    </tr>\n",
       "    <tr>\n",
       "      <th>7</th>\n",
       "      <td>7</td>\n",
       "      <td>14</td>\n",
       "      <td>19</td>\n",
       "      <td>-7</td>\n",
       "    </tr>\n",
       "    <tr>\n",
       "      <th>8</th>\n",
       "      <td>8</td>\n",
       "      <td>16</td>\n",
       "      <td>21</td>\n",
       "      <td>-8</td>\n",
       "    </tr>\n",
       "    <tr>\n",
       "      <th>9</th>\n",
       "      <td>9</td>\n",
       "      <td>18</td>\n",
       "      <td>23</td>\n",
       "      <td>-9</td>\n",
       "    </tr>\n",
       "    <tr>\n",
       "      <th>10</th>\n",
       "      <td>10</td>\n",
       "      <td>20</td>\n",
       "      <td>25</td>\n",
       "      <td>-10</td>\n",
       "    </tr>\n",
       "  </tbody>\n",
       "</table>\n",
       "</div>"
      ],
      "text/plain": [
       "     linear1  linear2  linear3  linear4\n",
       "-10      -10      -20      -15       10\n",
       "-9        -9      -18      -13        9\n",
       "-8        -8      -16      -11        8\n",
       "-7        -7      -14       -9        7\n",
       "-6        -6      -12       -7        6\n",
       "-5        -5      -10       -5        5\n",
       "-4        -4       -8       -3        4\n",
       "-3        -3       -6       -1        3\n",
       "-2        -2       -4        1        2\n",
       "-1        -1       -2        3        1\n",
       " 0         0        0        5        0\n",
       " 1         1        2        7       -1\n",
       " 2         2        4        9       -2\n",
       " 3         3        6       11       -3\n",
       " 4         4        8       13       -4\n",
       " 5         5       10       15       -5\n",
       " 6         6       12       17       -6\n",
       " 7         7       14       19       -7\n",
       " 8         8       16       21       -8\n",
       " 9         9       18       23       -9\n",
       " 10       10       20       25      -10"
      ]
     },
     "execution_count": 18,
     "metadata": {},
     "output_type": "execute_result"
    }
   ],
   "source": [
    "df = linear_df = pd.DataFrame(index=xval_ary)\n",
    "for k, v in linear_curves.items():\n",
    "    df[k] = sympy.lambdify(x, v.rhs, 'numpy')(xval_ary)\n",
    "linear_df"
   ]
  },
  {
   "cell_type": "markdown",
   "metadata": {},
   "source": [
    "We can access DataFrame rows by integer location with `DataFrame.iloc`:"
   ]
  },
  {
   "cell_type": "code",
   "execution_count": 19,
   "metadata": {},
   "outputs": [
    {
     "data": {
      "text/plain": [
       "(linear1   -10\n",
       " linear2   -20\n",
       " linear3   -15\n",
       " linear4    10\n",
       " Name: -10, dtype: int64,\n",
       " linear1    10\n",
       " linear2    20\n",
       " linear3    25\n",
       " linear4   -10\n",
       " Name: 10, dtype: int64)"
      ]
     },
     "execution_count": 19,
     "metadata": {},
     "output_type": "execute_result"
    }
   ],
   "source": [
    "linear_df.iloc[0], linear_df.iloc[-1]"
   ]
  },
  {
   "cell_type": "markdown",
   "metadata": {},
   "source": [
    "We can access DataFrame rows by index value and column name with `DataFrame.loc`:"
   ]
  },
  {
   "cell_type": "code",
   "execution_count": 20,
   "metadata": {},
   "outputs": [
    {
     "data": {
      "text/plain": [
       "(linear1    0\n",
       " linear2    0\n",
       " linear3    5\n",
       " linear4    0\n",
       " Name: 0, dtype: int64,\n",
       " 5)"
      ]
     },
     "execution_count": 20,
     "metadata": {},
     "output_type": "execute_result"
    }
   ],
   "source": [
    "linear_df.loc[0], linear_df.loc[0, 'linear3']"
   ]
  },
  {
   "cell_type": "code",
   "execution_count": 21,
   "metadata": {},
   "outputs": [
    {
     "data": {
      "text/html": [
       "<div>\n",
       "<style scoped>\n",
       "    .dataframe tbody tr th:only-of-type {\n",
       "        vertical-align: middle;\n",
       "    }\n",
       "\n",
       "    .dataframe tbody tr th {\n",
       "        vertical-align: top;\n",
       "    }\n",
       "\n",
       "    .dataframe thead th {\n",
       "        text-align: right;\n",
       "    }\n",
       "</style>\n",
       "<table border=\"1\" class=\"dataframe\">\n",
       "  <thead>\n",
       "    <tr style=\"text-align: right;\">\n",
       "      <th></th>\n",
       "      <th>linear1</th>\n",
       "      <th>linear2</th>\n",
       "      <th>linear3</th>\n",
       "      <th>linear4</th>\n",
       "    </tr>\n",
       "  </thead>\n",
       "  <tbody>\n",
       "    <tr>\n",
       "      <th>count</th>\n",
       "      <td>21.000000</td>\n",
       "      <td>21.000000</td>\n",
       "      <td>21.000000</td>\n",
       "      <td>21.000000</td>\n",
       "    </tr>\n",
       "    <tr>\n",
       "      <th>mean</th>\n",
       "      <td>0.000000</td>\n",
       "      <td>0.000000</td>\n",
       "      <td>5.000000</td>\n",
       "      <td>0.000000</td>\n",
       "    </tr>\n",
       "    <tr>\n",
       "      <th>std</th>\n",
       "      <td>6.204837</td>\n",
       "      <td>12.409674</td>\n",
       "      <td>12.409674</td>\n",
       "      <td>6.204837</td>\n",
       "    </tr>\n",
       "    <tr>\n",
       "      <th>min</th>\n",
       "      <td>-10.000000</td>\n",
       "      <td>-20.000000</td>\n",
       "      <td>-15.000000</td>\n",
       "      <td>-10.000000</td>\n",
       "    </tr>\n",
       "    <tr>\n",
       "      <th>25%</th>\n",
       "      <td>-5.000000</td>\n",
       "      <td>-10.000000</td>\n",
       "      <td>-5.000000</td>\n",
       "      <td>-5.000000</td>\n",
       "    </tr>\n",
       "    <tr>\n",
       "      <th>50%</th>\n",
       "      <td>0.000000</td>\n",
       "      <td>0.000000</td>\n",
       "      <td>5.000000</td>\n",
       "      <td>0.000000</td>\n",
       "    </tr>\n",
       "    <tr>\n",
       "      <th>75%</th>\n",
       "      <td>5.000000</td>\n",
       "      <td>10.000000</td>\n",
       "      <td>15.000000</td>\n",
       "      <td>5.000000</td>\n",
       "    </tr>\n",
       "    <tr>\n",
       "      <th>max</th>\n",
       "      <td>10.000000</td>\n",
       "      <td>20.000000</td>\n",
       "      <td>25.000000</td>\n",
       "      <td>10.000000</td>\n",
       "    </tr>\n",
       "  </tbody>\n",
       "</table>\n",
       "</div>"
      ],
      "text/plain": [
       "         linear1    linear2    linear3    linear4\n",
       "count  21.000000  21.000000  21.000000  21.000000\n",
       "mean    0.000000   0.000000   5.000000   0.000000\n",
       "std     6.204837  12.409674  12.409674   6.204837\n",
       "min   -10.000000 -20.000000 -15.000000 -10.000000\n",
       "25%    -5.000000 -10.000000  -5.000000  -5.000000\n",
       "50%     0.000000   0.000000   5.000000   0.000000\n",
       "75%     5.000000  10.000000  15.000000   5.000000\n",
       "max    10.000000  20.000000  25.000000  10.000000"
      ]
     },
     "execution_count": 21,
     "metadata": {},
     "output_type": "execute_result"
    }
   ],
   "source": [
    "linear_df.describe()"
   ]
  },
  {
   "cell_type": "code",
   "execution_count": 22,
   "metadata": {},
   "outputs": [],
   "source": [
    "# linear_df.plot?"
   ]
  },
  {
   "cell_type": "code",
   "execution_count": 23,
   "metadata": {},
   "outputs": [
    {
     "data": {
      "text/plain": [
       "<matplotlib.axes._subplots.AxesSubplot at 0x7f18cc2075d0>"
      ]
     },
     "execution_count": 23,
     "metadata": {},
     "output_type": "execute_result"
    },
    {
     "data": {
      "image/png": "[encoded data removed]",
      "text/plain": [
       "<Figure size 432x288 with 1 Axes>"
      ]
     },
     "metadata": {
      "needs_background": "light"
     },
     "output_type": "display_data"
    }
   ],
   "source": [
    "linear_df.plot()"
   ]
  },
  {
   "cell_type": "code",
   "execution_count": 24,
   "metadata": {},
   "outputs": [
    {
     "data": {
      "text/plain": [
       "-20"
      ]
     },
     "execution_count": 24,
     "metadata": {},
     "output_type": "execute_result"
    }
   ],
   "source": [
    "df.min().min()"
   ]
  },
  {
   "cell_type": "code",
   "execution_count": 25,
   "metadata": {},
   "outputs": [
    {
     "data": {
      "text/plain": [
       "<matplotlib.axes._subplots.AxesSubplot at 0x7f18cc11a6d0>"
      ]
     },
     "execution_count": 25,
     "metadata": {},
     "output_type": "execute_result"
    },
    {
     "data": {
      "image/png": "[encoded data removed]",
      "text/plain": [
       "<Figure size 432x288 with 1 Axes>"
      ]
     },
     "metadata": {
      "needs_background": "light"
     },
     "output_type": "display_data"
    }
   ],
   "source": [
    "def get_minmax(df):\n",
    "    # ymin = min(df[col].min() for col in df)\n",
    "    # ymax = max(df[col].max() for col in df.columns)\n",
    "    _min = df.min().min()\n",
    "    _max = df.max().max()\n",
    "    return _min, _max\n",
    "\n",
    "\n",
    "def format_plot(df, *, eqdict, **kwargs):\n",
    "    legendloc = kwargs.pop('legendloc', 'upper center')\n",
    "    minmax = list(get_minmax(df))\n",
    "    default_xlim = kwargs.get('default_xlim', [-10, 1000])\n",
    "    if minmax[0] == np.inf:\n",
    "        minmax[0] = kwargs.get('xlim', default_xlim)[0]\n",
    "    if minmax[1] == np.inf:\n",
    "        minmax[1] = kwargs.get('xlim', default_xlim)[-1]\n",
    "    ytick_step = (minmax[1] - minmax[0]) // 20\n",
    "    table = kwargs.pop('table', True)\n",
    "    yticks = np.arange(*np.round(minmax), ytick_step)\n",
    "    dfplot = df.plot(\n",
    "        table=table,\n",
    "        grid=kwargs.pop('grid', True),\n",
    "        xlim=kwargs.pop('xlim', None),\n",
    "        ylim=kwargs.pop('ylim', None),\n",
    "        xticks=kwargs.pop('xticks', df.index),\n",
    "        yticks=kwargs.pop('yticks', yticks),\n",
    "        **kwargs)\n",
    "    if eqdict:\n",
    "        current_handles, current_labels = dfplot.get_legend_handles_labels()\n",
    "        labels = [sympy.latex(eqdict[x], mode='inline') for x in current_labels]\n",
    "        dfplot.legend(current_handles, labels, loc=legendloc)\n",
    "    if table:\n",
    "        dfplot.xaxis.set_minor_locator(plt.NullLocator())\n",
    "        dfplot.xaxis.set_major_formatter(plt.NullFormatter())\n",
    "        dfplot.tick_params(axis=\"x\", direction=\"in\")\n",
    "    return dfplot\n",
    "format_plot(linear_df, eqdict=linear_curves, title=\"Linear (1) functions\")"
   ]
  },
  {
   "cell_type": "markdown",
   "metadata": {},
   "source": [
    "### Quadratic\n",
    "- https://en.wikipedia.org/wiki/Quadratic_function\n",
    "- Polynomial of degree 2: $y = x^2$\n",
    "- The graph of a univariate quadratic function is a **parabola**; is *parabolic*"
   ]
  },
  {
   "cell_type": "code",
   "execution_count": 26,
   "metadata": {},
   "outputs": [
    {
     "data": {
      "text/html": [
       "<div>\n",
       "<style scoped>\n",
       "    .dataframe tbody tr th:only-of-type {\n",
       "        vertical-align: middle;\n",
       "    }\n",
       "\n",
       "    .dataframe tbody tr th {\n",
       "        vertical-align: top;\n",
       "    }\n",
       "\n",
       "    .dataframe thead th {\n",
       "        text-align: right;\n",
       "    }\n",
       "</style>\n",
       "<table border=\"1\" class=\"dataframe\">\n",
       "  <thead>\n",
       "    <tr style=\"text-align: right;\">\n",
       "      <th></th>\n",
       "      <th>quadratic1</th>\n",
       "      <th>quadratic2</th>\n",
       "      <th>quadratic3</th>\n",
       "      <th>quadratic4</th>\n",
       "      <th>quadratic5</th>\n",
       "    </tr>\n",
       "  </thead>\n",
       "  <tbody>\n",
       "    <tr>\n",
       "      <th>-10</th>\n",
       "      <td>100</td>\n",
       "      <td>110</td>\n",
       "      <td>225</td>\n",
       "      <td>25</td>\n",
       "      <td>200</td>\n",
       "    </tr>\n",
       "    <tr>\n",
       "      <th>-9</th>\n",
       "      <td>81</td>\n",
       "      <td>91</td>\n",
       "      <td>196</td>\n",
       "      <td>16</td>\n",
       "      <td>162</td>\n",
       "    </tr>\n",
       "    <tr>\n",
       "      <th>-8</th>\n",
       "      <td>64</td>\n",
       "      <td>74</td>\n",
       "      <td>169</td>\n",
       "      <td>9</td>\n",
       "      <td>128</td>\n",
       "    </tr>\n",
       "    <tr>\n",
       "      <th>-7</th>\n",
       "      <td>49</td>\n",
       "      <td>59</td>\n",
       "      <td>144</td>\n",
       "      <td>4</td>\n",
       "      <td>98</td>\n",
       "    </tr>\n",
       "    <tr>\n",
       "      <th>-6</th>\n",
       "      <td>36</td>\n",
       "      <td>46</td>\n",
       "      <td>121</td>\n",
       "      <td>1</td>\n",
       "      <td>72</td>\n",
       "    </tr>\n",
       "  </tbody>\n",
       "</table>\n",
       "</div>"
      ],
      "text/plain": [
       "     quadratic1  quadratic2  quadratic3  quadratic4  quadratic5\n",
       "-10         100         110         225          25         200\n",
       "-9           81          91         196          16         162\n",
       "-8           64          74         169           9         128\n",
       "-7           49          59         144           4          98\n",
       "-6           36          46         121           1          72"
      ]
     },
     "execution_count": 26,
     "metadata": {},
     "output_type": "execute_result"
    }
   ],
   "source": [
    "quadratic1 = curves['quadratic1'] = sympy.Eq(y, x**2)\n",
    "quadratic2 = curves['quadratic2'] = sympy.Eq(y, x**2+10)\n",
    "quadratic3 = curves['quadratic3'] = sympy.Eq(y, (x-5)**2)\n",
    "quadratic3 = curves['quadratic4'] = sympy.Eq(y, (x+5)**2)\n",
    "quadratic4 = curves['quadratic5'] = sympy.Eq(y, 2*x**2)\n",
    "quadratic_curves = {k:v for k,v in curves.items() if k.startswith('quadratic')}\n",
    "df = quadratic_df = pd.DataFrame(index=xval_ary)\n",
    "for k, v in quadratic_curves.items():\n",
    "    df[k] = sympy.lambdify(x, v.rhs, 'numpy')(xval_ary)\n",
    "quadratic_df.head()"
   ]
  },
  {
   "cell_type": "code",
   "execution_count": 27,
   "metadata": {},
   "outputs": [
    {
     "data": {
      "text/plain": [
       "<matplotlib.axes._subplots.AxesSubplot at 0x7f18cbf4ead0>"
      ]
     },
     "execution_count": 27,
     "metadata": {},
     "output_type": "execute_result"
    },
    {
     "data": {
      "image/png": "[encoded data removed]",
      "text/plain": [
       "<Figure size 576x432 with 1 Axes>"
      ]
     },
     "metadata": {
      "needs_background": "light"
     },
     "output_type": "display_data"
    }
   ],
   "source": [
    "format_plot(quadratic_df, eqdict=quadratic_curves, figsize=(8, 6), title=\"Quadratic (2) functions\")"
   ]
  },
  {
   "cell_type": "markdown",
   "metadata": {},
   "source": [
    "### Cubic\n",
    "- https://en.wikipedia.org/wiki/Qubic_function\n",
    "- Polynomial of degree 3: $y = x^3$\n",
    "- The graph of a univariate cubic function is a **hyperbola**; is *hyperbola*"
   ]
  },
  {
   "cell_type": "code",
   "execution_count": 28,
   "metadata": {},
   "outputs": [
    {
     "data": {
      "text/html": [
       "<div>\n",
       "<style scoped>\n",
       "    .dataframe tbody tr th:only-of-type {\n",
       "        vertical-align: middle;\n",
       "    }\n",
       "\n",
       "    .dataframe tbody tr th {\n",
       "        vertical-align: top;\n",
       "    }\n",
       "\n",
       "    .dataframe thead th {\n",
       "        text-align: right;\n",
       "    }\n",
       "</style>\n",
       "<table border=\"1\" class=\"dataframe\">\n",
       "  <thead>\n",
       "    <tr style=\"text-align: right;\">\n",
       "      <th></th>\n",
       "      <th>cubic1</th>\n",
       "      <th>cubic2</th>\n",
       "      <th>cubic3</th>\n",
       "      <th>cubic4</th>\n",
       "      <th>cubic5</th>\n",
       "    </tr>\n",
       "  </thead>\n",
       "  <tbody>\n",
       "    <tr>\n",
       "      <th>-10</th>\n",
       "      <td>-1000</td>\n",
       "      <td>-990</td>\n",
       "      <td>-3375</td>\n",
       "      <td>-125</td>\n",
       "      <td>-2000</td>\n",
       "    </tr>\n",
       "    <tr>\n",
       "      <th>-9</th>\n",
       "      <td>-729</td>\n",
       "      <td>-719</td>\n",
       "      <td>-2744</td>\n",
       "      <td>-64</td>\n",
       "      <td>-1458</td>\n",
       "    </tr>\n",
       "    <tr>\n",
       "      <th>-8</th>\n",
       "      <td>-512</td>\n",
       "      <td>-502</td>\n",
       "      <td>-2197</td>\n",
       "      <td>-27</td>\n",
       "      <td>-1024</td>\n",
       "    </tr>\n",
       "    <tr>\n",
       "      <th>-7</th>\n",
       "      <td>-343</td>\n",
       "      <td>-333</td>\n",
       "      <td>-1728</td>\n",
       "      <td>-8</td>\n",
       "      <td>-686</td>\n",
       "    </tr>\n",
       "    <tr>\n",
       "      <th>-6</th>\n",
       "      <td>-216</td>\n",
       "      <td>-206</td>\n",
       "      <td>-1331</td>\n",
       "      <td>-1</td>\n",
       "      <td>-432</td>\n",
       "    </tr>\n",
       "  </tbody>\n",
       "</table>\n",
       "</div>"
      ],
      "text/plain": [
       "     cubic1  cubic2  cubic3  cubic4  cubic5\n",
       "-10   -1000    -990   -3375    -125   -2000\n",
       "-9     -729    -719   -2744     -64   -1458\n",
       "-8     -512    -502   -2197     -27   -1024\n",
       "-7     -343    -333   -1728      -8    -686\n",
       "-6     -216    -206   -1331      -1    -432"
      ]
     },
     "execution_count": 28,
     "metadata": {},
     "output_type": "execute_result"
    }
   ],
   "source": [
    "cubic1 = curves['cubic1'] = sympy.Eq(y, x**3)\n",
    "cubic2 = curves['cubic2'] = sympy.Eq(y, x**3+10)\n",
    "cubic3 = curves['cubic3'] = sympy.Eq(y, (x-5)**3)\n",
    "cubic3 = curves['cubic4'] = sympy.Eq(y, (x+5)**3)\n",
    "cubic4 = curves['cubic5'] = sympy.Eq(y, 2*x**3)\n",
    "cubic_curves = {k:v for k,v in curves.items() if k.startswith('cubic')}\n",
    "df = cubic_df = pd.DataFrame(index=xval_ary)\n",
    "for k, v in cubic_curves.items():\n",
    "    df[k] = sympy.lambdify(x, v.rhs, 'numpy')(xval_ary)\n",
    "cubic_df.head()"
   ]
  },
  {
   "cell_type": "code",
   "execution_count": 29,
   "metadata": {},
   "outputs": [
    {
     "data": {
      "text/plain": [
       "<matplotlib.axes._subplots.AxesSubplot at 0x7f18cbeac790>"
      ]
     },
     "execution_count": 29,
     "metadata": {},
     "output_type": "execute_result"
    },
    {
     "data": {
      "image/png": "[encoded data removed]",
      "text/plain": [
       "<Figure size 576x432 with 1 Axes>"
      ]
     },
     "metadata": {
      "needs_background": "light"
     },
     "output_type": "display_data"
    }
   ],
   "source": [
    "format_plot(cubic_df, eqdict=cubic_curves, table=False, figsize=(8, 6), title=\"Cubic (3) functions\")"
   ]
  },
  {
   "cell_type": "markdown",
   "metadata": {},
   "source": [
    "### Quartic\n",
    "- https://en.wikipedia.org/wiki/Quartic_function\n",
    "- Polynomial of degree 4: $y = x^4$"
   ]
  },
  {
   "cell_type": "code",
   "execution_count": 30,
   "metadata": {},
   "outputs": [
    {
     "data": {
      "text/html": [
       "<div>\n",
       "<style scoped>\n",
       "    .dataframe tbody tr th:only-of-type {\n",
       "        vertical-align: middle;\n",
       "    }\n",
       "\n",
       "    .dataframe tbody tr th {\n",
       "        vertical-align: top;\n",
       "    }\n",
       "\n",
       "    .dataframe thead th {\n",
       "        text-align: right;\n",
       "    }\n",
       "</style>\n",
       "<table border=\"1\" class=\"dataframe\">\n",
       "  <thead>\n",
       "    <tr style=\"text-align: right;\">\n",
       "      <th></th>\n",
       "      <th>quartic1</th>\n",
       "      <th>quartic2</th>\n",
       "      <th>quartic3</th>\n",
       "      <th>quartic4</th>\n",
       "      <th>quartic5</th>\n",
       "    </tr>\n",
       "  </thead>\n",
       "  <tbody>\n",
       "    <tr>\n",
       "      <th>-15</th>\n",
       "      <td>50625</td>\n",
       "      <td>50635</td>\n",
       "      <td>160000</td>\n",
       "      <td>10000</td>\n",
       "      <td>101250</td>\n",
       "    </tr>\n",
       "    <tr>\n",
       "      <th>-14</th>\n",
       "      <td>38416</td>\n",
       "      <td>38426</td>\n",
       "      <td>130321</td>\n",
       "      <td>6561</td>\n",
       "      <td>76832</td>\n",
       "    </tr>\n",
       "    <tr>\n",
       "      <th>-13</th>\n",
       "      <td>28561</td>\n",
       "      <td>28571</td>\n",
       "      <td>104976</td>\n",
       "      <td>4096</td>\n",
       "      <td>57122</td>\n",
       "    </tr>\n",
       "    <tr>\n",
       "      <th>-12</th>\n",
       "      <td>20736</td>\n",
       "      <td>20746</td>\n",
       "      <td>83521</td>\n",
       "      <td>2401</td>\n",
       "      <td>41472</td>\n",
       "    </tr>\n",
       "    <tr>\n",
       "      <th>-11</th>\n",
       "      <td>14641</td>\n",
       "      <td>14651</td>\n",
       "      <td>65536</td>\n",
       "      <td>1296</td>\n",
       "      <td>29282</td>\n",
       "    </tr>\n",
       "  </tbody>\n",
       "</table>\n",
       "</div>"
      ],
      "text/plain": [
       "     quartic1  quartic2  quartic3  quartic4  quartic5\n",
       "-15     50625     50635    160000     10000    101250\n",
       "-14     38416     38426    130321      6561     76832\n",
       "-13     28561     28571    104976      4096     57122\n",
       "-12     20736     20746     83521      2401     41472\n",
       "-11     14641     14651     65536      1296     29282"
      ]
     },
     "execution_count": 30,
     "metadata": {},
     "output_type": "execute_result"
    }
   ],
   "source": [
    "def get_polynomial_df(deg, name, xmin=-10, xmax=10, xstep=1, scalar=2):\n",
    "    curves = {}\n",
    "    curves[f'{name}1'] = sympy.Eq(y, x**deg)\n",
    "    curves[f'{name}2'] = sympy.Eq(y, x**deg+10)\n",
    "    curves[f'{name}3'] = sympy.Eq(y, (x-5)**deg)\n",
    "    curves[f'{name}4'] = sympy.Eq(y, (x+5)**deg)\n",
    "    curves[f'{name}5'] = sympy.Eq(y, scalar*x**deg)\n",
    "    xval_ary = np.arange(xmin, xmax, xstep)\n",
    "    df = pd.DataFrame(index=xval_ary)\n",
    "    for k, v in curves.items():\n",
    "        df[k] = sympy.lambdify(x, v.rhs, 'numpy')(xval_ary)\n",
    "    return df, curves\n",
    "\n",
    "quartic_df, quartic_curves = get_polynomial_df(4, 'quartic', -15, 15)\n",
    "curves.update(quartic_curves)\n",
    "quartic_df.head()"
   ]
  },
  {
   "cell_type": "code",
   "execution_count": null,
   "metadata": {},
   "outputs": [],
   "source": [
    "format_plot(quartic_df, eqdict=quartic_curves, table=False, figsize=(8, 6), title=\"Quartic (4) functions\")"
   ]
  },
  {
   "cell_type": "markdown",
   "metadata": {},
   "source": [
    "### Quintic\n",
    "- https://en.wikipedia.org/wiki/Quintic_function\n",
    "- Polynomial of degree 5: $y = x^5$"
   ]
  },
  {
   "cell_type": "code",
   "execution_count": null,
   "metadata": {},
   "outputs": [],
   "source": [
    "quintic_df, quintic_curves = get_polynomial_df(5, 'quintic', xmin=-30, xmax=30, xstep=2, scalar=10)\n",
    "curves.update(quintic_curves)\n",
    "quintic_df.head()"
   ]
  },
  {
   "cell_type": "code",
   "execution_count": null,
   "metadata": {},
   "outputs": [],
   "source": [
    "format_plot(quintic_df, eqdict=quintic_curves,\n",
    "            title='Quintic (5) functions',\n",
    "            table=False,\n",
    "            legendloc='lower center')"
   ]
  },
  {
   "cell_type": "code",
   "execution_count": null,
   "metadata": {},
   "outputs": [],
   "source": [
    "qplot1 = sympy.plotting.plot(\n",
    "    *[x.rhs for x in quintic_curves.values()],\n",
    "    range=(x, -20, 20),\n",
    "    xlim=(-10, 10),\n",
    "    #ylim=get_minmax(quintic_df),\n",
    "    ylim=(-50, 50),\n",
    "    title='Quintic (5) functions\\n',\n",
    "    legend=True,\n",
    "    show=False,\n",
    ")\n",
    "qplot1[0].line_color = 'tab:red'\n",
    "qplot1[1].line_color = 'tab:blue'\n",
    "qplot1[2].line_color = 'tab:orange'\n",
    "qplot1[3].line_color = 'tab:green'\n",
    "qplot1[4].line_color = 'tab:purple'\n",
    "qplot1.show()"
   ]
  },
  {
   "cell_type": "markdown",
   "metadata": {},
   "source": [
    "### Sextic\n",
    "- https://en.wikipedia.org/wiki/Sextic_function\n",
    "- Polynomial of degree 6: $y = x^6$"
   ]
  },
  {
   "cell_type": "code",
   "execution_count": null,
   "metadata": {},
   "outputs": [],
   "source": [
    "sextic_df, sextic_curves = get_polynomial_df(6, 'sextic', xmin=-30, xmax=30, xstep=2, scalar=5)\n",
    "curves.update(sextic_curves)\n",
    "sextic_df.head()"
   ]
  },
  {
   "cell_type": "code",
   "execution_count": null,
   "metadata": {},
   "outputs": [],
   "source": [
    "format_plot(sextic_df, eqdict=sextic_curves,\n",
    "            title='Sextic (6) functions',\n",
    "            table=False,\n",
    "            legendloc='upper center')"
   ]
  },
  {
   "cell_type": "code",
   "execution_count": null,
   "metadata": {},
   "outputs": [],
   "source": [
    "sxplot1 = sympy.plotting.plot(\n",
    "    *[x.rhs for x in sextic_curves.values()],\n",
    "    range=(x, -20, 20),\n",
    "    xlim=(-10, 10),\n",
    "    #ylim=get_minmax(quintic_df),\n",
    "    ylim=(-10, 30),\n",
    "    title='Sextic (6) functions\\n',\n",
    "    legend=True,\n",
    "    show=False,\n",
    ")\n",
    "sxplot1[0].line_color = 'tab:red'\n",
    "sxplot1[1].line_color = 'tab:blue'\n",
    "sxplot1[2].line_color = 'tab:orange'\n",
    "sxplot1[3].line_color = 'tab:green'\n",
    "sxplot1[4].line_color = 'tab:purple'\n",
    "sxplot1.show()"
   ]
  },
  {
   "cell_type": "markdown",
   "metadata": {},
   "source": [
    "### Septic\n",
    "- https://en.wikipedia.org/wiki/Septic_function\n",
    "- Polynomial of degree 7: $y = x^7$"
   ]
  },
  {
   "cell_type": "code",
   "execution_count": null,
   "metadata": {},
   "outputs": [],
   "source": [
    "septic_df, septic_curves = get_polynomial_df(7, 'septic', xmin=-50, xmax=50, xstep=4, scalar=5)\n",
    "curves.update(septic_curves)\n",
    "septic_df.head()"
   ]
  },
  {
   "cell_type": "code",
   "execution_count": null,
   "metadata": {},
   "outputs": [],
   "source": [
    "format_plot(septic_df, eqdict=septic_curves,\n",
    "            title='Septic (7) functions',\n",
    "            table=False,\n",
    "            legendloc='lower center')"
   ]
  },
  {
   "cell_type": "code",
   "execution_count": null,
   "metadata": {},
   "outputs": [],
   "source": [
    "spplot1 = sympy.plotting.plot(\n",
    "    *[x.rhs for x in septic_curves.values()],\n",
    "    range=(x, -20, 20),\n",
    "    xlim=(-10, 10),\n",
    "    #ylim=get_minmax(quintic_df),\n",
    "    ylim=(-10, 30),\n",
    "    title='Septic (7) functions\\n',\n",
    "    legend=True,\n",
    "    show=False,\n",
    ")\n",
    "spplot1[0].line_color = 'tab:red'\n",
    "spplot1[1].line_color = 'tab:blue'\n",
    "spplot1[2].line_color = 'tab:orange'\n",
    "spplot1[3].line_color = 'tab:green'\n",
    "spplot1[4].line_color = 'tab:purple'\n",
    "spplot1.show()"
   ]
  },
  {
   "cell_type": "markdown",
   "metadata": {},
   "source": [
    "### Octic\n",
    "- https://en.wikipedia.org/wiki/Octic_function\n",
    "- Polynomial of degree 8: $y = x^8$"
   ]
  },
  {
   "cell_type": "markdown",
   "metadata": {},
   "source": [
    "### Nonic\n",
    "- https://en.wikipedia.org/wiki/Nonic_function\n",
    "- Polynomial of degree 9: $y = x^9$"
   ]
  },
  {
   "cell_type": "markdown",
   "metadata": {},
   "source": [
    "### Decic\n",
    "- https://en.wikipedia.org/wiki/Decic_function\n",
    "- Polynomial of degree 10: $y = x^{10}$"
   ]
  },
  {
   "cell_type": "markdown",
   "metadata": {},
   "source": [
    "### Univariate Polynomials Summary"
   ]
  },
  {
   "cell_type": "code",
   "execution_count": null,
   "metadata": {},
   "outputs": [],
   "source": [
    "ups_curves = {k:v for k,v in curves.items() if k.endswith('1')}\n",
    "ups_curves"
   ]
  },
  {
   "cell_type": "code",
   "execution_count": null,
   "metadata": {},
   "outputs": [],
   "source": [
    "def get_ups_df(curves, xmin=-20, xmax=20, xstep=2):\n",
    "    xval_ary = np.arange(xmin, xmax, xstep)\n",
    "    df = pd.DataFrame(index=xval_ary)\n",
    "    for k, v in curves.items():\n",
    "        df[k] = sympy.lambdify(x, v.rhs, 'numpy')(xval_ary)\n",
    "    return df\n",
    "ups_df = get_ups_df(ups_curves)\n",
    "ups_df.columns = [sympy.latex(eq, mode='inline') for eq in ups_curves.values()]\n",
    "ups_df"
   ]
  },
  {
   "cell_type": "code",
   "execution_count": null,
   "metadata": {},
   "outputs": [],
   "source": [
    "format_plot(\n",
    "    ups_df, eqdict=None,\n",
    "    table=False,\n",
    "    title='Univariate Polynomials',\n",
    "    legendloc='lower right',\n",
    "    figsize=(8, 5))"
   ]
  },
  {
   "cell_type": "code",
   "execution_count": null,
   "metadata": {},
   "outputs": [],
   "source": [
    "format_plot(\n",
    "    get_ups_df(ups_curves, xmin=-5, xmax=5, xstep=0.1),\n",
    "    eqdict=ups_curves,\n",
    "    table=False,\n",
    "    title='Univariate Polynomials',\n",
    "    legendloc='lower right',\n",
    "    xticks=np.arange(-5, 5, 1),\n",
    "    ylim=(-20, 20),\n",
    "    figsize=(8, 5))"
   ]
  },
  {
   "cell_type": "code",
   "execution_count": null,
   "metadata": {},
   "outputs": [],
   "source": []
  },
  {
   "cell_type": "markdown",
   "metadata": {},
   "source": [
    "## Exponential Functions\n",
    "- https://en.wikipedia.org/wiki/Exponential_function"
   ]
  },
  {
   "cell_type": "code",
   "execution_count": null,
   "metadata": {},
   "outputs": [],
   "source": [
    "def get_exponential_df(xmin=-10, xmax=10, xstep=1):\n",
    "    name='exp'\n",
    "    curves = {}\n",
    "    curves[f'{name}0'] = sympy.Eq(y, 0**x)\n",
    "    curves[f'{name}1'] = sympy.Eq(y, 1**x)\n",
    "    curves[f'{name}2'] = sympy.Eq(y, 2**x)\n",
    "    curves[f'{name}3'] = sympy.Eq(y, 2**(x*2))\n",
    "    curves[f'{name}4'] = sympy.Eq(y, 2**(x*3))\n",
    "    xval_ary = np.arange(xmin, xmax, xstep).astype(np.float64)\n",
    "    df = pd.DataFrame(index=xval_ary)\n",
    "    for k, v in curves.items():\n",
    "        df[k] = sympy.lambdify(x, v.rhs, 'numpy')(xval_ary)\n",
    "    return df, curves\n",
    "\n",
    "exponential_df, exponential_curves = get_exponential_df(xmin=-15, xmax=15, xstep=0.5)\n",
    "curves.update(exponential_curves)\n",
    "exponential_df.head()"
   ]
  },
  {
   "cell_type": "code",
   "execution_count": null,
   "metadata": {},
   "outputs": [],
   "source": [
    "#%debug\n",
    "kwargs = dict(\n",
    "    eqdict=exponential_curves,\n",
    "    table=False,\n",
    "    title='Exponential Curves',\n",
    "    legendloc='lower right',\n",
    "    xticks=np.arange(-15, 15, 1),\n",
    "    ylim=(0, 10),\n",
    "    figsize=(8, 5))\n",
    "\n",
    "format_plot(\n",
    "    exponential_df,\n",
    "    **kwargs\n",
    "    )"
   ]
  },
  {
   "cell_type": "code",
   "execution_count": null,
   "metadata": {},
   "outputs": [],
   "source": [
    "#%debug\n",
    "format_plot(\n",
    "    exponential_df,\n",
    "    **{**kwargs,\n",
    "       'ylim':(0, 1000)})"
   ]
  },
  {
   "cell_type": "code",
   "execution_count": null,
   "metadata": {},
   "outputs": [],
   "source": [
    "format_plot(\n",
    "    exponential_df,\n",
    "    **{**kwargs,\n",
    "       'ylim':(0, 10000),\n",
    "       'logy': True,\n",
    "       'title':'Exponential Curves (logy=True)',\n",
    "      })"
   ]
  },
  {
   "cell_type": "code",
   "execution_count": null,
   "metadata": {},
   "outputs": [],
   "source": []
  },
  {
   "cell_type": "markdown",
   "metadata": {},
   "source": [
    "## Trigonometric Functions\n",
    "- https://docs.scipy.org/doc/numpy/reference/routines.math.html#trigonometric-functions\n",
    "- https://docs.scipy.org/doc/numpy/reference/generated/numpy.sin.html\n",
    "- https://docs.sympy.org/latest/modules/functions/elementary.html#sympy-functions-elementary-trigonometric\n",
    "- https://docs.sympy.org/latest/modules/functions/elementary.html#sin"
   ]
  },
  {
   "cell_type": "markdown",
   "metadata": {},
   "source": [
    "#### Degrees and Radians\n",
    "- $360\\ {degrees} = 2 \\pi\\ {radians}$\n",
    "- $2 \\pi\\ {radians} = 360\\ {degrees}$"
   ]
  },
  {
   "cell_type": "code",
   "execution_count": null,
   "metadata": {},
   "outputs": [],
   "source": [
    "degrees = [0, 45, 90, 180, 270, 360, 360*2, 360*2+90]\n",
    "vals_rad = [np.deg2rad(n) for n in degrees]\n",
    "vals_rad"
   ]
  },
  {
   "cell_type": "code",
   "execution_count": null,
   "metadata": {},
   "outputs": [],
   "source": [
    "vals_nested_lists = [[n, np.deg2rad(n), np.deg2rad(n)/np.pi] for n in degrees]\n",
    "vals_nested_lists"
   ]
  },
  {
   "cell_type": "code",
   "execution_count": null,
   "metadata": {},
   "outputs": [],
   "source": [
    "np.asarray(vals_nested_lists), np.asmatrix(vals_nested_lists)"
   ]
  },
  {
   "cell_type": "markdown",
   "metadata": {},
   "source": [
    "It's already not easy to remember which column is which with these nested lists, arrays, and matrices.\n",
    "Instead, we could create a `pandas.DataFrame`:"
   ]
  },
  {
   "cell_type": "code",
   "execution_count": null,
   "metadata": {},
   "outputs": [],
   "source": [
    "df = df_rad_deg = pd.DataFrame.from_records(\n",
    "    vals_nested_lists,\n",
    "    columns=['degrees', 'radians', 'pi radians'],\n",
    "    index=[x[0] for x in vals_nested_lists])\n",
    "\n",
    "df2 = df_rad_deg2 = pd.DataFrame(index=degrees)\n",
    "df2['degrees'] = df2.index\n",
    "df2['radians'] = df2['degrees'].apply(np.deg2rad)\n",
    "df2['pi radians'] = df2['radians'] / np.pi\n",
    "\n",
    "assert df_rad_deg.equals(df_rad_deg2)\n",
    "# df2\n",
    "df_rad_deg2"
   ]
  },
  {
   "cell_type": "markdown",
   "metadata": {},
   "source": [
    "FWIW (for what it's worth), we could calculate the same values with (comparatively slow) *list comprehensions*, or with fast *vectorized array operations* (that can be done in parallel):"
   ]
  },
  {
   "cell_type": "code",
   "execution_count": null,
   "metadata": {},
   "outputs": [],
   "source": [
    "with pytest.raises(TypeError):\n",
    "    vals_rad / np.pi\n",
    "list_comprehension = [x / np.pi for x in vals_rad]\n",
    "list_comprehension"
   ]
  },
  {
   "cell_type": "code",
   "execution_count": null,
   "metadata": {},
   "outputs": [],
   "source": [
    "vectorized_array_operation = np.asarray(vals_rad) / np.pi\n",
    "vectorized_array_operation"
   ]
  },
  {
   "cell_type": "code",
   "execution_count": null,
   "metadata": {},
   "outputs": [],
   "source": [
    "np.testing.assert_allclose(list_comprehension, vectorized_array_operation)"
   ]
  },
  {
   "cell_type": "code",
   "execution_count": null,
   "metadata": {},
   "outputs": [],
   "source": [
    "degs = np.rad2deg(np.arange(0, 4.5+0.5, 0.5) * np.pi)\n",
    "degs"
   ]
  },
  {
   "cell_type": "markdown",
   "metadata": {},
   "source": [
    "**SymPy**"
   ]
  },
  {
   "cell_type": "code",
   "execution_count": null,
   "metadata": {},
   "outputs": [],
   "source": [
    "degs_sympy = sympy.deg(np.arange(0, 4.5+0.5, 0.5) * np.pi)\n",
    "degs_sympy"
   ]
  },
  {
   "cell_type": "code",
   "execution_count": null,
   "metadata": {},
   "outputs": [],
   "source": [
    "degs_sympy.astype(np.float)\n",
    "#degs_sympy.astype(np.float32)\n",
    "#degs_sympy.astype(np.float64)"
   ]
  },
  {
   "cell_type": "code",
   "execution_count": null,
   "metadata": {},
   "outputs": [],
   "source": [
    "degs_sympy = sympy.deg(np.arange(0, 4.5+0.5, 0.5) * sympy.pi)\n",
    "degs_sympy"
   ]
  },
  {
   "cell_type": "code",
   "execution_count": null,
   "metadata": {},
   "outputs": [],
   "source": [
    "degs_sympy.astype(np.float)"
   ]
  },
  {
   "cell_type": "code",
   "execution_count": null,
   "metadata": {},
   "outputs": [],
   "source": []
  },
  {
   "cell_type": "code",
   "execution_count": null,
   "metadata": {},
   "outputs": [],
   "source": [
    "def setcolors(plot, colors=None):\n",
    "    if colors is None:\n",
    "        colors = [f'tab:{c}' for c in 'red blue orange green purple'.split()]\n",
    "    for p, color in itertools.zip_longest(plot, colors):\n",
    "        if p:\n",
    "            p.line_color = color\n",
    "    return plot"
   ]
  },
  {
   "cell_type": "code",
   "execution_count": null,
   "metadata": {},
   "outputs": [],
   "source": [
    "def sincomponents_plots(powerscalar=1, ylim1=None, ylim2=None):\n",
    "    pows = powerscalar\n",
    "    cm = components = {}\n",
    "    cm['a'] = sympy.sin(x)**(1*pows)\n",
    "    cm['b'] = sympy.sin(x)**(1*pows)*2\n",
    "    cm['c'] = sympy.sin(x)**(2*pows)\n",
    "    cm['d'] = sympy.sin(x)**(3*pows)+1\n",
    "    cm['e'] = sympy.sin(x)**(1*pows)+2\n",
    "    display(cm)\n",
    "\n",
    "    sinplots = sympy.plotting.plot(\n",
    "        *components.values(),\n",
    "        ylim=ylim1 if ylim1 is not None else (0, 3),\n",
    "        legend=True,\n",
    "        show=False,\n",
    "        title='sin(x) independent components\\n'\n",
    "    )\n",
    "    setcolors(sinplots)\n",
    "    sinplots.show()\n",
    "\n",
    "    sinplot = sympy.plotting.plot(\n",
    "        sympy.sin(x),\n",
    "        sum(tuple(components.values())[:-2]),\n",
    "        sum(tuple(components.values())[:-1]),\n",
    "        sum(tuple(components.values())),\n",
    "        ylim=ylim2 if ylim2 is not None else (-3, 9),\n",
    "        legend=True,\n",
    "        show=False,\n",
    "        title='sum(sin(x) components) plots\\n')\n",
    "    setcolors(sinplot)\n",
    "    sinplot.show()\n",
    "    return components"
   ]
  },
  {
   "cell_type": "code",
   "execution_count": null,
   "metadata": {},
   "outputs": [],
   "source": [
    "cmp1 = sincomponents_plots()"
   ]
  },
  {
   "cell_type": "code",
   "execution_count": null,
   "metadata": {},
   "outputs": [],
   "source": [
    "cmp1_inv = sincomponents_plots(-1, ylim1=(-6, 6), ylim2=(-6, 6))"
   ]
  },
  {
   "cell_type": "code",
   "execution_count": null,
   "metadata": {},
   "outputs": [],
   "source": []
  }
 ],
 "metadata": {
  "jupytext": {
   "formats": "ipynb,py:light,md"
  },
  "kernelspec": {
   "display_name": "Python 3",
   "language": "python",
   "name": "python3"
  },
  "language_info": {
   "codemirror_mode": {
    "name": "ipython",
    "version": 3
   },
   "file_extension": ".py",
   "mimetype": "text/x-python",
   "name": "python",
   "nbconvert_exporter": "python",
   "pygments_lexer": "ipython3",
   "version": "3.7.6"
  },
  "toc": {
   "base_numbering": 1,
   "nav_menu": {},
   "number_sections": true,
   "sideBar": true,
   "skip_h1_title": true,
   "title_cell": "Table of Contents",
   "title_sidebar": "Contents",
   "toc_cell": true,
   "toc_position": {},
   "toc_section_display": true,
   "toc_window_display": true
  }
 },
 "nbformat": 4,
 "nbformat_minor": 4
}
