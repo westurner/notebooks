{
 "cells": [
  {
   "cell_type": "markdown",
   "metadata": {},
   "source": [
    "# Arithmetic Mean\n",
    "- https://en.wikipedia.org/wiki/Arithmetic_progression\n",
    "- https://www.khanacademy.org/math/precalculus/x9e81a4f98389efdf:series/x9e81a4f98389efdf:arith-series/v/formula-for-arithmetic-series"
   ]
  },
  {
   "cell_type": "markdown",
   "metadata": {},
   "source": [
    "## Plain Python"
   ]
  },
  {
   "cell_type": "code",
   "execution_count": 18,
   "metadata": {},
   "outputs": [],
   "source": [
    "def fn(k):\n",
    "    return 2*k + 50\n",
    "\n",
    "fn_lambda = lambda k: 2*k + 50\n",
    "\n",
    "for n in range(1, 10):\n",
    "    assert fn_lambda(n) == fn(n)\n",
    "    \n",
    "[fn(k) for k in range(1, 10)]"
   ]
  },
  {
   "cell_type": "code",
   "execution_count": 40,
   "metadata": {},
   "outputs": [],
   "source": [
    "series = [fn(n) for n in range(1, 550+1)]\n",
    "series[:10], series[-10:]"
   ]
  },
  {
   "cell_type": "code",
   "execution_count": 42,
   "metadata": {},
   "outputs": [
    {
     "data": {
      "text/plain": [
       "[1202, 1202, 1202, 1202, 1202, 1202, 1202, 1202, 1202, 1202]"
      ]
     },
     "execution_count": 42,
     "metadata": {},
     "output_type": "execute_result"
    }
   ],
   "source": [
    "[(x+y) for (x,y) in zip(series[:10], reversed(series[-10:]))]"
   ]
  },
  {
   "cell_type": "code",
   "execution_count": 52,
   "metadata": {},
   "outputs": [
    {
     "data": {
      "text/plain": [
       "330550.0"
      ]
     },
     "execution_count": 52,
     "metadata": {},
     "output_type": "execute_result"
    }
   ],
   "source": [
    "def sum_arithmetic_series(fn, start, end):\n",
    "    return ((fn(end)+fn(start)) / 2) * (end+1-start)\n",
    "\n",
    "sum_arithmetic_series(fn, 1, 550)"
   ]
  },
  {
   "cell_type": "markdown",
   "metadata": {},
   "source": [
    "## Sympy"
   ]
  },
  {
   "cell_type": "code",
   "execution_count": 10,
   "metadata": {},
   "outputs": [
    {
     "data": {
      "text/latex": [
       "$\\displaystyle 2 k + 50$"
      ],
      "text/plain": [
       "2*k + 50"
      ]
     },
     "execution_count": 10,
     "metadata": {},
     "output_type": "execute_result"
    }
   ],
   "source": [
    "import sympy\n",
    "k = sympy.symbols('k', real=True)\n",
    "expr = 2*k+50\n",
    "expr"
   ]
  },
  {
   "cell_type": "code",
   "execution_count": 22,
   "metadata": {},
   "outputs": [
    {
     "data": {
      "text/plain": [
       "([52, 54, 56, 58, 60, 62, 64, 66, 68, 70],\n",
       " [1132, 1134, 1136, 1138, 1140, 1142, 1144, 1146, 1148, 1150])"
      ]
     },
     "execution_count": 22,
     "metadata": {},
     "output_type": "execute_result"
    }
   ],
   "source": [
    "series = [expr.subs({k:n}) for n in range(1, 550+1)]\n",
    "series[:10], series[-10:]"
   ]
  },
  {
   "cell_type": "code",
   "execution_count": 25,
   "metadata": {},
   "outputs": [
    {
     "data": {
      "text/plain": [
       "[1202, 1202, 1202, 1202, 1202, 1202, 1202, 1202, 1202, 1202]"
      ]
     },
     "execution_count": 25,
     "metadata": {},
     "output_type": "execute_result"
    }
   ],
   "source": [
    "[(x+y) for (x,y) in zip(series[:10], reversed(series[-10:]))]"
   ]
  },
  {
   "cell_type": "code",
   "execution_count": 27,
   "metadata": {},
   "outputs": [],
   "source": [
    "[(x+y) for (x,y) in zip(series[:10], series[-10:][::-1])]"
   ]
  },
  {
   "cell_type": "code",
   "execution_count": 45,
   "metadata": {},
   "outputs": [],
   "source": [
    "assert series[-10::-1] != list(reversed(series[-10:]))\n",
    "assert series[-10:][::-1] == list(reversed(series[-10:]))"
   ]
  },
  {
   "cell_type": "code",
   "execution_count": 7,
   "metadata": {},
   "outputs": [
    {
     "data": {
      "text/latex": [
       "$\\displaystyle \\sum_{k=1}^{550} \\left(2 k + 50\\right)$"
      ],
      "text/plain": [
       "Sum(2*k + 50, (k, 1, 550))"
      ]
     },
     "execution_count": 7,
     "metadata": {},
     "output_type": "execute_result"
    }
   ],
   "source": [
    "sumexpr = sympy.Sum(expr, (k, 1, 550)); sumexpr"
   ]
  },
  {
   "cell_type": "code",
   "execution_count": 53,
   "metadata": {},
   "outputs": [
    {
     "data": {
      "text/latex": [
       "$\\displaystyle 330550$"
      ],
      "text/plain": [
       "330550"
      ]
     },
     "execution_count": 53,
     "metadata": {},
     "output_type": "execute_result"
    }
   ],
   "source": [
    "sumexpr.doit()"
   ]
  },
  {
   "cell_type": "code",
   "execution_count": null,
   "metadata": {},
   "outputs": [],
   "source": []
  },
  {
   "cell_type": "markdown",
   "metadata": {},
   "source": [
    "## Exercises"
   ]
  },
  {
   "cell_type": "code",
   "execution_count": 67,
   "metadata": {},
   "outputs": [],
   "source": [
    "task = \"find the sum\"\n",
    "text = \"11+20+29+...+4052=\"\n",
    "assumptions = ['arithmetic series']"
   ]
  },
  {
   "cell_type": "code",
   "execution_count": 61,
   "metadata": {},
   "outputs": [
    {
     "data": {
      "text/plain": [
       "['11', '20', '29', '...', '4052']"
      ]
     },
     "execution_count": 61,
     "metadata": {},
     "output_type": "execute_result"
    }
   ],
   "source": [
    "seriesstr = text.rstrip(\"=\").split(\"+\"); seriesstr"
   ]
  },
  {
   "cell_type": "code",
   "execution_count": 64,
   "metadata": {},
   "outputs": [
    {
     "data": {
      "text/plain": [
       "[11, 20, 29, 4052]"
      ]
     },
     "execution_count": 64,
     "metadata": {},
     "output_type": "execute_result"
    }
   ],
   "source": [
    "seriesnums = [int(n) for n in seriesstr if n != '...']; seriesnums"
   ]
  },
  {
   "cell_type": "code",
   "execution_count": 68,
   "metadata": {},
   "outputs": [
    {
     "data": {
      "text/plain": [
       "(9, 9)"
      ]
     },
     "execution_count": 68,
     "metadata": {},
     "output_type": "execute_result"
    }
   ],
   "source": [
    "diff_btwn = seriesnums[1]-seriesnums[0], seriesnums[2]-seriesnums[1]; diff_btwn"
   ]
  },
  {
   "cell_type": "code",
   "execution_count": 81,
   "metadata": {},
   "outputs": [
    {
     "data": {
      "text/plain": [
       "[11, 20, 29, None, 4052]"
      ]
     },
     "metadata": {},
     "output_type": "display_data"
    },
    {
     "data": {
      "text/plain": [
       "[9, 9, None, None]"
      ]
     },
     "metadata": {},
     "output_type": "display_data"
    }
   ],
   "source": [
    "def parse_into_series(text):\n",
    "    seriesstr = text.rstrip(\"=\").split(\"+\")\n",
    "    numbers = []\n",
    "    for nstr in seriesstr:\n",
    "        nstr = nstr.strip()\n",
    "        numbers.append(int(nstr) if nstr != '...' else None)\n",
    "    differences = []\n",
    "    for n1, n2 in zip(numbers, numbers[1:]):\n",
    "        if n1 is None or n2 is None:\n",
    "            differences.append(None)\n",
    "        else:\n",
    "            differences.append(n2-n1)\n",
    "    return numbers, differences\n",
    "\n",
    "text = \"11+20+29+...+4052=\"\n",
    "numbers, diffs = parse_into_series(text)\n",
    "assert numbers == [11, 20, 29, None, 4052]\n",
    "assert diffs == [9, 9, None, None]\n",
    "display(numbers, diffs)"
   ]
  },
  {
   "cell_type": "code",
   "execution_count": 95,
   "metadata": {},
   "outputs": [
    {
     "data": {
      "text/plain": [
       "9"
      ]
     },
     "metadata": {},
     "output_type": "display_data"
    }
   ],
   "source": [
    "def verify_all_equal(diffs):\n",
    "    diffseq = filter(bool, diffs)\n",
    "    first = next(diffseq)\n",
    "    if all(x==first for x in diffseq):\n",
    "        return first\n",
    "    else:\n",
    "        return False\n",
    "        \n",
    "output = verify_all_equal(diffs)\n",
    "display(output)"
   ]
  },
  {
   "cell_type": "code",
   "execution_count": 83,
   "metadata": {},
   "outputs": [
    {
     "data": {
      "text/plain": [
       "\u001b[0;31mInit signature:\u001b[0m \u001b[0mfilter\u001b[0m\u001b[0;34m(\u001b[0m\u001b[0mself\u001b[0m\u001b[0;34m,\u001b[0m \u001b[0;34m/\u001b[0m\u001b[0;34m,\u001b[0m \u001b[0;34m*\u001b[0m\u001b[0margs\u001b[0m\u001b[0;34m,\u001b[0m \u001b[0;34m**\u001b[0m\u001b[0mkwargs\u001b[0m\u001b[0;34m)\u001b[0m\u001b[0;34m\u001b[0m\u001b[0;34m\u001b[0m\u001b[0m\n",
       "\u001b[0;31mDocstring:\u001b[0m     \n",
       "filter(function or None, iterable) --> filter object\n",
       "\n",
       "Return an iterator yielding those items of iterable for which function(item)\n",
       "is true. If function is None, return the items that are true.\n",
       "\u001b[0;31mType:\u001b[0m           type\n",
       "\u001b[0;31mSubclasses:\u001b[0m     \n"
      ]
     },
     "metadata": {},
     "output_type": "display_data"
    }
   ],
   "source": [
    "ver"
   ]
  },
  {
   "cell_type": "code",
   "execution_count": null,
   "metadata": {},
   "outputs": [],
   "source": []
  }
 ],
 "metadata": {
  "kernelspec": {
   "display_name": "Python 3",
   "language": "python",
   "name": "python3"
  },
  "language_info": {
   "codemirror_mode": {
    "name": "ipython",
    "version": 3
   },
   "file_extension": ".py",
   "mimetype": "text/x-python",
   "name": "python",
   "nbconvert_exporter": "python",
   "pygments_lexer": "ipython3",
   "version": "3.7.6"
  }
 },
 "nbformat": 4,
 "nbformat_minor": 4
}
