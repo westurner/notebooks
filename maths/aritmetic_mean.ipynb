{
 "cells": [
  {
   "cell_type": "markdown",
   "metadata": {},
   "source": [
    "# Arithmetic Mean\n",
    "- https://en.wikipedia.org/wiki/Arithmetic_progression\n",
    "- https://www.khanacademy.org/math/precalculus/x9e81a4f98389efdf:series/x9e81a4f98389efdf:arith-series/v/formula-for-arithmetic-series"
   ]
  },
  {
   "cell_type": "markdown",
   "metadata": {},
   "source": [
    "## Plain Python"
   ]
  },
  {
   "cell_type": "code",
   "execution_count": 18,
   "metadata": {},
   "outputs": [],
   "source": [
    "def fn(k):\n",
    "    return 2*k + 50\n",
    "\n",
    "fn_lambda = lambda k: 2*k + 50\n",
    "\n",
    "for n in range(1, 10):\n",
    "    assert fn_lambda(n) == fn(n)\n",
    "    \n",
    "[fn(k) for k in range(1, 10)]"
   ]
  },
  {
   "cell_type": "code",
   "execution_count": 40,
   "metadata": {},
   "outputs": [],
   "source": [
    "series = [fn(n) for n in range(1, 550+1)]\n",
    "series[:10], series[-10:]"
   ]
  },
  {
   "cell_type": "code",
   "execution_count": 42,
   "metadata": {},
   "outputs": [
    {
     "data": {
      "text/plain": [
       "[1202, 1202, 1202, 1202, 1202, 1202, 1202, 1202, 1202, 1202]"
      ]
     },
     "execution_count": 42,
     "metadata": {},
     "output_type": "execute_result"
    }
   ],
   "source": [
    "[(x+y) for (x,y) in zip(series[:10], reversed(series[-10:]))]"
   ]
  },
  {
   "cell_type": "code",
   "execution_count": 52,
   "metadata": {},
   "outputs": [
    {
     "data": {
      "text/plain": [
       "330550.0"
      ]
     },
     "execution_count": 52,
     "metadata": {},
     "output_type": "execute_result"
    }
   ],
   "source": [
    "def sum_arithmetic_series(fn, start, end):\n",
    "    return ((fn(end)+fn(start)) / 2) * (end+1-start)\n",
    "\n",
    "sum_arithmetic_series(fn, 1, 550)"
   ]
  },
  {
   "cell_type": "markdown",
   "metadata": {},
   "source": [
    "## Sympy"
   ]
  },
  {
   "cell_type": "code",
   "execution_count": 10,
   "metadata": {},
   "outputs": [
    {
     "data": {
      "text/latex": [
       "$\\displaystyle 2 k + 50$"
      ],
      "text/plain": [
       "2*k + 50"
      ]
     },
     "execution_count": 10,
     "metadata": {},
     "output_type": "execute_result"
    }
   ],
   "source": [
    "import sympy\n",
    "k = sympy.symbols('k', real=True)\n",
    "expr = 2*k+50\n",
    "expr"
   ]
  },
  {
   "cell_type": "code",
   "execution_count": 22,
   "metadata": {},
   "outputs": [
    {
     "data": {
      "text/plain": [
       "([52, 54, 56, 58, 60, 62, 64, 66, 68, 70],\n",
       " [1132, 1134, 1136, 1138, 1140, 1142, 1144, 1146, 1148, 1150])"
      ]
     },
     "execution_count": 22,
     "metadata": {},
     "output_type": "execute_result"
    }
   ],
   "source": [
    "series = [expr.subs({k:n}) for n in range(1, 550+1)]\n",
    "series[:10], series[-10:]"
   ]
  },
  {
   "cell_type": "code",
   "execution_count": 25,
   "metadata": {},
   "outputs": [
    {
     "data": {
      "text/plain": [
       "[1202, 1202, 1202, 1202, 1202, 1202, 1202, 1202, 1202, 1202]"
      ]
     },
     "execution_count": 25,
     "metadata": {},
     "output_type": "execute_result"
    }
   ],
   "source": [
    "[(x+y) for (x,y) in zip(series[:10], reversed(series[-10:]))]"
   ]
  },
  {
   "cell_type": "code",
   "execution_count": 27,
   "metadata": {},
   "outputs": [],
   "source": [
    "[(x+y) for (x,y) in zip(series[:10], series[-10:][::-1])]"
   ]
  },
  {
   "cell_type": "code",
   "execution_count": 45,
   "metadata": {},
   "outputs": [],
   "source": [
    "assert series[-10::-1] != list(reversed(series[-10:]))\n",
    "assert series[-10:][::-1] == list(reversed(series[-10:]))"
   ]
  },
  {
   "cell_type": "code",
   "execution_count": 7,
   "metadata": {},
   "outputs": [
    {
     "data": {
      "text/latex": [
       "$\\displaystyle \\sum_{k=1}^{550} \\left(2 k + 50\\right)$"
      ],
      "text/plain": [
       "Sum(2*k + 50, (k, 1, 550))"
      ]
     },
     "execution_count": 7,
     "metadata": {},
     "output_type": "execute_result"
    }
   ],
   "source": [
    "sumexpr = sympy.Sum(expr, (k, 1, 550)); sumexpr"
   ]
  },
  {
   "cell_type": "code",
   "execution_count": 53,
   "metadata": {},
   "outputs": [
    {
     "data": {
      "text/latex": [
       "$\\displaystyle 330550$"
      ],
      "text/plain": [
       "330550"
      ]
     },
     "execution_count": 53,
     "metadata": {},
     "output_type": "execute_result"
    }
   ],
   "source": [
    "sumexpr.doit()"
   ]
  },
  {
   "cell_type": "code",
   "execution_count": null,
   "metadata": {},
   "outputs": [],
   "source": []
  },
  {
   "cell_type": "code",
   "execution_count": null,
   "metadata": {},
   "outputs": [],
   "source": []
  }
 ],
 "metadata": {
  "kernelspec": {
   "display_name": "Python 3",
   "language": "python",
   "name": "python3"
  },
  "language_info": {
   "codemirror_mode": {
    "name": "ipython",
    "version": 3
   },
   "file_extension": ".py",
   "mimetype": "text/x-python",
   "name": "python",
   "nbconvert_exporter": "python",
   "pygments_lexer": "ipython3",
   "version": "3.7.6"
  }
 },
 "nbformat": 4,
 "nbformat_minor": 4
}
