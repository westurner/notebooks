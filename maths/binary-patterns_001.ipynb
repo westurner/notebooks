{
 "cells": [
  {
   "cell_type": "markdown",
   "metadata": {},
   "source": [
    "# Binary Patterns 001\n",
    "Author: @westurner"
   ]
  },
  {
   "cell_type": "markdown",
   "metadata": {},
   "source": [
    "## combinations and probabilities"
   ]
  },
  {
   "cell_type": "code",
   "execution_count": 1,
   "metadata": {},
   "outputs": [
    {
     "data": {
      "text/plain": [
       "1.2"
      ]
     },
     "execution_count": 1,
     "metadata": {},
     "output_type": "execute_result"
    }
   ],
   "source": [
    "# this is \"wrong\"\n",
    "# probability of feature 1, probability of feature 2\n",
    "\n",
    "p1 = 0.5\n",
    "p2 = 0.7\n",
    "p1 + p2"
   ]
  },
  {
   "cell_type": "code",
   "execution_count": 2,
   "metadata": {},
   "outputs": [
    {
     "data": {
      "text/plain": [
       "0.35"
      ]
     },
     "execution_count": 2,
     "metadata": {},
     "output_type": "execute_result"
    }
   ],
   "source": [
    "# this is \"wrong\"\n",
    "p1 * p2"
   ]
  },
  {
   "cell_type": "code",
   "execution_count": 3,
   "metadata": {
    "scrolled": true
   },
   "outputs": [
    {
     "name": "stdout",
     "output_type": "stream",
     "text": [
      "1.5499999999999998\n"
     ]
    }
   ],
   "source": [
    "# what is this called?\n",
    "# reasoning: numbers smaller than 1 multiplied get smaller\n",
    "print((1+p1)*(1+p2)-1)"
   ]
  },
  {
   "cell_type": "code",
   "execution_count": 4,
   "metadata": {},
   "outputs": [
    {
     "name": "stdout",
     "output_type": "stream",
     "text": [
      "0.5499999999999998\n"
     ]
    }
   ],
   "source": [
    "print((1+p1)*(1+p2)-(1*2))"
   ]
  },
  {
   "cell_type": "markdown",
   "metadata": {},
   "source": [
    "## a simple binary game"
   ]
  },
  {
   "cell_type": "code",
   "execution_count": 5,
   "metadata": {},
   "outputs": [
    {
     "name": "stdout",
     "output_type": "stream",
     "text": [
      "[[[1, 0, 1, 0], 1], [[0, 0, 0, 1], 0], [[1, 1, 1, 0], 1], [[0, 0, 1, 0], 1]]\n",
      "[[[1, 0, 1, 0], 1], [[0, 0, 0, 1], 0], [[1, 1, 1, 0], 1], [[0, 0, 1, 0], 0]]\n"
     ]
    }
   ],
   "source": [
    "# w,x,y,z,  s\n",
    "s1 = [\n",
    "[[1,0,1,0], 1],\n",
    "[[0,0,0,1], 0],\n",
    "[[1,1,1,0], 1],\n",
    "[[0,0,1,0], 1]\n",
    "]\n",
    "s2 = [\n",
    "[[1,0,1,0], 1],\n",
    "[[0,0,0,1], 0],\n",
    "[[1,1,1,0], 1],\n",
    "[[0,0,1,0], 0]\n",
    "]\n",
    "print(s1)\n",
    "print(s2)"
   ]
  },
  {
   "cell_type": "markdown",
   "metadata": {},
   "source": [
    "what are the relation(s) between the features w,x,y,z and s?\n",
    "\n",
    "with human intuition, we can see that for\n",
    "- s1: s is always 1 when y is 1\n",
    "- s1: s is always 0 when y is 0\n",
    "- s2: s is always 1 when (w,y) is (1,1)\n",
    "- s2: s is always 0 when (w) is 0"
   ]
  },
  {
   "cell_type": "code",
   "execution_count": 6,
   "metadata": {},
   "outputs": [],
   "source": [
    "import sys\n",
    "if sys.version_info[:2] <= (3, 6):\n",
    "    from collections import defaultdict, OrderedDict\n",
    "    class OrderedDefaultDict(OrderedDict, defaultdict):\n",
    "        def __init__(self, default_factory=None, *a, **kw):\n",
    "            OrderedDict.__init__(self, *a, **kw)\n",
    "            self.default_factory = default_factory\n",
    "else:\n",
    "    from collections import defaultdict\n",
    "    OrderedDefaultDict = defaultdict\n",
    "    \n",
    "if sys.version_info.major > 2:\n",
    "    from functools import reduce\n",
    "    \n",
    "import itertools\n",
    "import operator"
   ]
  },
  {
   "cell_type": "code",
   "execution_count": 7,
   "metadata": {},
   "outputs": [
    {
     "name": "stdout",
     "output_type": "stream",
     "text": [
      "1 0 1 0 1\n",
      "0 0 0 1 0\n",
      "1 1 1 0 1\n",
      "0 0 1 0 1\n",
      "# s1\n",
      "3: ('AND', ('y',))\n",
      "3: ('XOR', ('y', 'z'))\n",
      "3: ('OR', ('y', 'z'))\n",
      "3: ('OR', ('x', 'y'))\n",
      "3: ('OR', ('w', 'y'))\n",
      "3: ('OR', ('x', 'y', 'z'))\n",
      "3: ('OR', ('w', 'y', 'z'))\n",
      "3: ('OR', ('w', 'x', 'y'))\n",
      "3: ('OR', ('w', 'x', 'y', 'z'))\n",
      "2: ('AND', ('w',))\n",
      "2: ('XOR', ('x', 'y'))\n",
      "2: ('XOR', ('w', 'z'))\n",
      "2: ('OR', ('w', 'z'))\n",
      "2: ('OR', ('w', 'x'))\n",
      "2: ('AND', ('w', 'y'))\n",
      "2: ('XOR', ('x', 'y', 'z'))\n",
      "2: ('XOR', ('w', 'x', 'y'))\n",
      "2: ('OR', ('w', 'x', 'z'))\n",
      "2: ('XOR', ('w', 'x', 'y', 'z'))\n",
      "1: ('AND', ('x',))\n",
      "1: ('XOR', ('x', 'z'))\n",
      "1: ('XOR', ('w', 'y'))\n",
      "1: ('XOR', ('w', 'x'))\n",
      "1: ('OR', ('x', 'z'))\n",
      "1: ('AND', ('x', 'y'))\n",
      "1: ('AND', ('w', 'x'))\n",
      "1: ('XOR', ('w', 'y', 'z'))\n",
      "1: ('XOR', ('w', 'x', 'z'))\n",
      "1: ('AND', ('w', 'x', 'y'))\n",
      "# s2\n",
      "2: ('AND', ('y',))\n",
      "2: ('AND', ('w',))\n",
      "2: ('XOR', ('y', 'z'))\n",
      "2: ('XOR', ('w', 'z'))\n",
      "2: ('OR', ('y', 'z'))\n",
      "2: ('OR', ('x', 'y'))\n",
      "2: ('OR', ('w', 'z'))\n",
      "2: ('OR', ('w', 'y'))\n",
      "2: ('OR', ('w', 'x'))\n",
      "2: ('AND', ('w', 'y'))\n",
      "2: ('OR', ('x', 'y', 'z'))\n",
      "2: ('OR', ('w', 'y', 'z'))\n",
      "2: ('OR', ('w', 'x', 'z'))\n",
      "2: ('OR', ('w', 'x', 'y'))\n",
      "2: ('OR', ('w', 'x', 'y', 'z'))\n",
      "1: ('AND', ('x',))\n",
      "1: ('XOR', ('x', 'z'))\n",
      "1: ('XOR', ('x', 'y'))\n",
      "1: ('XOR', ('w', 'x'))\n",
      "1: ('OR', ('x', 'z'))\n",
      "1: ('AND', ('x', 'y'))\n",
      "1: ('AND', ('w', 'x'))\n",
      "1: ('XOR', ('x', 'y', 'z'))\n",
      "1: ('XOR', ('w', 'x', 'z'))\n",
      "1: ('XOR', ('w', 'x', 'y'))\n",
      "1: ('AND', ('w', 'x', 'y'))\n",
      "1: ('XOR', ('w', 'x', 'y', 'z'))\n"
     ]
    }
   ],
   "source": [
    "for ((w,x,y,z), s) in s1:\n",
    "    print(w,x,y,z,s)\n",
    "\n",
    "def find_features(s1):\n",
    "    f = OrderedDefaultDict(lambda: 0)\n",
    "    feature_names = 'wxyzs'\n",
    "    for ((w,x,y,z), s) in s1:\n",
    "        features = locals()\n",
    "        for r in range(1, len(feature_names)+1):\n",
    "            for comb in itertools.combinations(feature_names[:-1], r):  # *\n",
    "                if features[feature_names[-1]]:  # *\n",
    "                    features_ = [features.get(comb[i], 0) for i in range(r)]\n",
    "                    f[('AND', comb)] += all(features_)\n",
    "                    if r > 1:\n",
    "                        f[('OR', comb)] += reduce(operator.or_, features_)\n",
    "                        f[('XOR', comb)] += reduce(operator.xor, features_)\n",
    "    #print(json.dumps(f, indent=2))\n",
    "    f_inv = sorted(\n",
    "        ((v,k) for (k,v) in f.items()),\n",
    "        key=lambda x: (x[0], len(feature_names) - len(x[1][1]), x[1]), # TODO: occam's razor\n",
    "        reverse=True)\n",
    "\n",
    "    for count_, features_ in f_inv:\n",
    "        if features_ != ('s',) and count_ > 0: #and 's' in features:  # *\n",
    "            print(\"%s: %s\" % (count_, features_))\n",
    "print('# s1')\n",
    "find_features(s1)\n",
    "print('# s2')\n",
    "find_features(s2)"
   ]
  },
  {
   "cell_type": "markdown",
   "metadata": {},
   "source": [
    "Wow, that's a lot of solutions. A few observations:\n",
    "\n",
    "- That's more solutions than I intended in conjuring ``s1`` and ``s2`` as test cases.\n",
    "  - My brain and visual cortex seem to test mostly just for ``AND``.\n",
    "- I could not filter out solutions containing s (``feature_names[:-1]``).\n",
    "- This may not be the best data structure for the problem: is there any reason to leave ``s`` out of the matrix?\n",
    "  - Would ``numpy.matrix`` be more efficient for this type of a combinatorics and logic problem?\n",
    "    - ``pandas.DataFrame`` would print prettier with ``_repr_html_``\n",
    "      - Is the ``.count()`` method of ``DataFrame`` useful for anything other than ``AND`` here?\n",
    "- I could reverse the ``range()`` of combination lengths ``r`` to test for more complex features first and then try and bisect by splitting features with higher frequencies in half in search of less complex features with greater frequency.\n",
    "- This still isn't the complete set of possible solutions:\n",
    "  - I filter out solutions with zero frequency. Is a ``NOT(solution_with_zero_frequency)`` likely to be ranked more highly?\n",
    "  - I only test for ``w AND x AND y AND z`` but not for variations like ``w AND x OR y XOR z``.\n",
    "    - I wish I could recall how associative boolean logic is. Would I also need to add parethesis for every possible grouping?\n",
    "      - ``w AND ((x OR y) XOR z)``\n",
    "        - ``0 AND .((0 OR 0) XOR 0)`` == ``0``\n",
    "        - ``1 AND  ((1 OR 1) XOR 1))`` == ``0``\n",
    "      - ``w AND (x OR (y XOR z))``\n",
    "        - ``0 AND .(0 OR (0 XOR 0))`` == ``0``\n",
    "        - ``1 AND (1 OR (1 XOR 1))`` == ``1`` ... not associative.\n",
    "    - At that number of combinations, is mutation or particle swarm optimization likely to find the solution first?\n",
    "      - Isn't there a more efficient way to do this without testing all possible logical strings?\n",
    "        - How is this problem similar or different to brute-force fuzzing a high-dimensional space?"
   ]
  }
 ],
 "metadata": {
  "anaconda-cloud": {},
  "kernelspec": {
   "display_name": "Python 3",
   "language": "python",
   "name": "python3"
  },
  "language_info": {
   "codemirror_mode": {
    "name": "ipython",
    "version": 3
   },
   "file_extension": ".py",
   "mimetype": "text/x-python",
   "name": "python",
   "nbconvert_exporter": "python",
   "pygments_lexer": "ipython3",
   "version": "3.7.6"
  }
 },
 "nbformat": 4,
 "nbformat_minor": 4
}
