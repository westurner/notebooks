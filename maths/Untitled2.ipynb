{
 "cells": [
  {
   "cell_type": "code",
   "execution_count": 3,
   "metadata": {
    "collapsed": false
   },
   "outputs": [
    {
     "data": {
      "text/plain": [
       "25000000.0"
      ]
     },
     "execution_count": 3,
     "metadata": {},
     "output_type": "execute_result"
    }
   ],
   "source": [
    "initial_investment = 2.5e7\n",
    "initial_investment"
   ]
  },
  {
   "cell_type": "code",
   "execution_count": 6,
   "metadata": {
    "collapsed": false
   },
   "outputs": [
    {
     "data": {
      "text/plain": [
       "0.08"
      ]
     },
     "execution_count": 6,
     "metadata": {},
     "output_type": "execute_result"
    }
   ],
   "source": [
    "initial_cost = 0.08\n",
    "initial_cost"
   ]
  },
  {
   "cell_type": "code",
   "execution_count": 9,
   "metadata": {
    "collapsed": false
   },
   "outputs": [
    {
     "data": {
      "text/plain": [
       "312500000.0"
      ]
     },
     "execution_count": 9,
     "metadata": {},
     "output_type": "execute_result"
    }
   ],
   "source": [
    "num_coins = initial_investment / initial_cost"
   ]
  },
  {
   "cell_type": "code",
   "execution_count": 11,
   "metadata": {
    "collapsed": false
   },
   "outputs": [
    {
     "data": {
      "text/plain": [
       "1016562500000.0"
      ]
     },
     "execution_count": 11,
     "metadata": {},
     "output_type": "execute_result"
    }
   ],
   "source": [
    "current_price = 3253\n",
    "num_coins * current_price"
   ]
  },
  {
   "cell_type": "code",
   "execution_count": 133,
   "metadata": {
    "collapsed": false
   },
   "outputs": [
    {
     "name": "stdout",
     "output_type": "stream",
     "text": [
      "amt                        $25,000,000.00\n",
      "price_start                         $0.08\n",
      "price_current                   $3,253.00\n",
      "n_coins                       312500000.0\n",
      "value_current       $1,016,562,500,000.00\n",
      "gain                $1,016,537,500,000.00\n",
      "gain_pct                      4,066,050 %\n"
     ]
    }
   ],
   "source": [
    "import locale\n",
    "import decimal\n",
    "from __future__ import (division, print_function)\n",
    "from collections import OrderedDict\n",
    "\n",
    "locale.setlocale(locale.LC_ALL, '')\n",
    "\n",
    "fmt_cur = lambda x: locale.currency(x, grouping=True)\n",
    "printcur = lambda x: print(fmtcur(x))\n",
    "\n",
    "class USD(decimal.Decimal):\n",
    "    def __str__(self):\n",
    "        return fmt_cur(self)\n",
    "\n",
    "class Percent(decimal.Decimal):\n",
    "    def __str__(self):\n",
    "        return \"{} %\".format(locale.format(\"%d\", self * 100, grouping=True))\n",
    "    \n",
    "class Context(collections.OrderedDict):\n",
    "    def __str__(self):\n",
    "        return self.print_dict(self)\n",
    "        \n",
    "    @staticmethod\n",
    "    def print_dict(d):\n",
    "        return u\"\\n\".join(\n",
    "            \"%-14s  %25s\" % (key, d[key]) for key in d)\n",
    "    \n",
    "    def __cmp__(self, other):\n",
    "        print(self)\n",
    "        print(other)\n",
    "        return collections.OrderedDict.__cmp__(self, other)\n",
    "    \n",
    "    def __eq__(self, other):\n",
    "        print('===')\n",
    "        print(self)\n",
    "        print('---')\n",
    "        print(other)\n",
    "        return collections.OrderedDict.__eq__(self, other)\n",
    "    \n",
    "def function(invest_amount, starting_price, current_price):\n",
    "    \"\"\"\n",
    "    Args:\n",
    "        invest_amount (float): amount invested\n",
    "        starting_price (float): initial price of the security\n",
    "        current_price (float): current price of the security\n",
    "    Returns:\n",
    "        collections.OrderedDict: context dict\n",
    "    \"\"\"\n",
    "    \n",
    "    c = Context()\n",
    "    c['amt'] = USD(invest_amount)\n",
    "    c['price_start'] = USD(starting_price)\n",
    "    c['price_current'] = USD(current_price)\n",
    "    c['n_coins'] = n_coins = (invest_amount / starting_price)\n",
    "    c['value_current'] = USD(n_coins * current_price)\n",
    "    \n",
    "\n",
    "    gain = (n_coins * current_price) - (n_coins * starting_price)\n",
    "    c['gain'] = fmt_cur(gain)\n",
    "    \n",
    "    c['gain_pct'] = Percent((gain - invest_amount) / invest_amount)\n",
    "    return c\n",
    "    \n",
    "\n",
    "    \n",
    "output = function(2.5e7, 3253, 3253)\n",
    "assert output['amt'] == output['value_current']\n",
    "#assertRaises(ZeroDivisionError, function(0, 0, 0))\n",
    "\n",
    "output = function(1, 1, 2) #print_dict(output)\n",
    "assert output['gain'] == \"$1.00\"\n",
    "\n",
    "\n",
    "output = function(2.5e7, 0.08, 3253)\n",
    "print(output)"
   ]
  },
  {
   "cell_type": "code",
   "execution_count": 136,
   "metadata": {
    "collapsed": false
   },
   "outputs": [
    {
     "name": "stdout",
     "output_type": "stream",
     "text": [
      "amt                        $25,000,000.00\n",
      "price_start                         $0.08\n",
      "price_current                   $3,253.00\n",
      "n_coins         312499999.9999999934947869651\n",
      "value_current       $1,016,562,500,000.00\n",
      "gain                $1,016,537,500,000.00\n",
      "gain_pct                      4,066,149 %\n",
      "$203,312,500,000.00\n",
      "===\n",
      "amt                        $25,000,000.00\n",
      "price_start                         $0.08\n",
      "price_current                   $3,253.00\n",
      "n_coins                       312500000.0\n",
      "value_current       $1,016,562,500,000.00\n",
      "gain                $1,016,537,500,000.00\n",
      "gain_pct                      4,066,050 %\n",
      "---\n",
      "amt                        $25,000,000.00\n",
      "price_start                         $0.08\n",
      "price_current                   $3,253.00\n",
      "n_coins         312499999.9999999934947869651\n",
      "value_current       $1,016,562,500,000.00\n",
      "gain                $1,016,537,500,000.00\n",
      "gain_pct                      4,066,149 %\n"
     ]
    },
    {
     "ename": "AssertionError",
     "evalue": "",
     "output_type": "error",
     "traceback": [
      "\u001b[1;31m---------------------------------------------------------------------------\u001b[0m",
      "\u001b[1;31mAssertionError\u001b[0m                            Traceback (most recent call last)",
      "\u001b[1;32m<ipython-input-136-4b35a0f1b681>\u001b[0m in \u001b[0;36m<module>\u001b[1;34m()\u001b[0m\n\u001b[0;32m     30\u001b[0m \u001b[1;32mprint\u001b[0m\u001b[1;33m(\u001b[0m\u001b[0mUSD\u001b[0m\u001b[1;33m(\u001b[0m\u001b[0moutput2\u001b[0m\u001b[1;33m[\u001b[0m\u001b[1;34m'value_current'\u001b[0m\u001b[1;33m]\u001b[0m \u001b[1;33m/\u001b[0m \u001b[0mdecimal\u001b[0m\u001b[1;33m.\u001b[0m\u001b[0mDecimal\u001b[0m\u001b[1;33m(\u001b[0m\u001b[1;36m5.0\u001b[0m\u001b[1;33m)\u001b[0m\u001b[1;33m)\u001b[0m\u001b[1;33m)\u001b[0m\u001b[1;33m\u001b[0m\u001b[0m\n\u001b[0;32m     31\u001b[0m \u001b[1;33m\u001b[0m\u001b[0m\n\u001b[1;32m---> 32\u001b[1;33m \u001b[1;32massert\u001b[0m \u001b[0moutput\u001b[0m \u001b[1;33m==\u001b[0m \u001b[0moutput2\u001b[0m  \u001b[1;31m# note the float rounding difference\u001b[0m\u001b[1;33m\u001b[0m\u001b[0m\n\u001b[0m\u001b[0;32m     33\u001b[0m \u001b[1;33m\u001b[0m\u001b[0m\n",
      "\u001b[1;31mAssertionError\u001b[0m: "
     ]
    }
   ],
   "source": [
    "def function2(invest_amount, starting_price, current_price):\n",
    "    \"\"\"\n",
    "    Args:\n",
    "        invest_amount (float): amount invested\n",
    "        starting_price (float): initial price of the security\n",
    "        current_price (float): current price of the security\n",
    "    Returns:\n",
    "        collections.OrderedDict: context dict\n",
    "    \"\"\"\n",
    "    c = Context()\n",
    "    invest_amount = USD(invest_amount)\n",
    "    starting_price = USD(starting_price)\n",
    "    current_price = USD(current_price)\n",
    "    c['amt'] = invest_amount\n",
    "    c['price_start'] = starting_price\n",
    "    c['price_current'] = current_price\n",
    "\n",
    "    c['n_coins'] = n_coins = (invest_amount / starting_price)\n",
    "    c['value_current'] = USD(n_coins * current_price)\n",
    "    \n",
    "    gain_pct = Percent((current_price - starting_price) / starting_price)\n",
    "    gain = invest_amount * gain_pct\n",
    "\n",
    "    c['gain'] = USD(gain)\n",
    "    c['gain_pct'] = gain_pct\n",
    "    return c\n",
    "\n",
    "output2 = function2(2.5e7, 0.08, 3253)\n",
    "print(output2)\n",
    "print(USD(output2['value_current'] / decimal.Decimal(5.0)))\n",
    "\n",
    "assert output == output2  # note the float rounding difference\n",
    "\n"
   ]
  },
  {
   "cell_type": "markdown",
   "metadata": {},
   "source": [
    "https://pypi.python.org/pypi/py-moneyed"
   ]
  }
 ],
 "metadata": {
  "anaconda-cloud": {},
  "kernelspec": {
   "display_name": "Python [default]",
   "language": "python",
   "name": "python2"
  },
  "language_info": {
   "codemirror_mode": {
    "name": "ipython",
    "version": 2
   },
   "file_extension": ".py",
   "mimetype": "text/x-python",
   "name": "python",
   "nbconvert_exporter": "python",
   "pygments_lexer": "ipython2",
   "version": "2.7.12"
  },
  "toc": {
   "colors": {
    "hover_highlight": "#DAA520",
    "running_highlight": "#FF0000",
    "selected_highlight": "#FFD700"
   },
   "moveMenuLeft": true,
   "nav_menu": {
    "height": "12px",
    "width": "252px"
   },
   "navigate_menu": true,
   "number_sections": true,
   "sideBar": true,
   "threshold": 4,
   "toc_cell": false,
   "toc_section_display": "block",
   "toc_window_display": false
  }
 },
 "nbformat": 4,
 "nbformat_minor": 2
}
