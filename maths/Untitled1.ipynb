{
 "cells": [
  {
   "cell_type": "markdown",
   "metadata": {},
   "source": [
    "$$c = \\sqrt{a^2 + b^2}$$\n",
    "\n",
    "Note that these render differently:\n",
    "$$x = share price_today^2$$\n",
    "$$x = {share price}_{today}^2$$\n",
    "$$x = \\text{share price}_{today}^2$$\n",
    "$$x = \\textit{share price}_{today}^2$$"
   ]
  },
  {
   "cell_type": "markdown",
   "metadata": {},
   "source": [
    "The quadratic equation, $c = \\sqrt{a^2 + b^2}$, looks curiously\n",
    "like the quantum probability amplitude equation.\n",
    "$$x = {price}^2$$"
   ]
  },
  {
   "cell_type": "code",
   "execution_count": null,
   "metadata": {},
   "outputs": [],
   "source": []
  },
  {
   "cell_type": "markdown",
   "metadata": {},
   "source": [
    "One dollar sign: \\\\$ and another \\\\$"
   ]
  },
  {
   "cell_type": "code",
   "execution_count": 5,
   "metadata": {},
   "outputs": [
    {
     "data": {
      "text/latex": [
       "$\\displaystyle c = \\sqrt{a^2 + b^2}$"
      ],
      "text/plain": [
       "<IPython.core.display.Math object>"
      ]
     },
     "execution_count": 5,
     "metadata": {},
     "output_type": "execute_result"
    }
   ],
   "source": [
    "from IPython.display import Math\n",
    "Math(r'c = \\sqrt{a^2 + b^2}')"
   ]
  },
  {
   "cell_type": "code",
   "execution_count": 11,
   "metadata": {},
   "outputs": [
    {
     "data": {
      "text/latex": [
       "$\\displaystyle c = \\sqrt{a^2 + b^2}$"
      ],
      "text/plain": [
       "<IPython.core.display.Math object>"
      ]
     },
     "metadata": {},
     "output_type": "display_data"
    },
    {
     "data": {
      "text/latex": [
       "\\begin{align}\n",
       "y = mx+b\n",
       "\\end{align}"
      ],
      "text/plain": [
       "<IPython.core.display.Latex object>"
      ]
     },
     "metadata": {},
     "output_type": "display_data"
    }
   ],
   "source": [
    "from IPython.display import Math, Latex, display\n",
    "display(\n",
    " Math(r'c = \\sqrt{a^2 + b^2}'),\n",
    " Latex(r'''\\begin{align}''' + '\\n' + 'y = mx+b' + '\\n' + '\\end{align}'))"
   ]
  },
  {
   "cell_type": "markdown",
   "metadata": {},
   "source": [
    "$\n",
    "\\begin{align}\n",
    "\\textit{Earnings Per Share} & = \\frac{\\textit{Earnings}}{\\textit{Market Value Per Share}} \\\\\n",
    "\\textit{EPS} & = \\frac{\\textit{Earnings}}{\\textit{Share Price}}\n",
    "\\end{align}\n",
    "$"
   ]
  },
  {
   "cell_type": "markdown",
   "metadata": {},
   "source": [
    "$$\n",
    "\\begin{align}\n",
    "\\textit{Earnings Per Share} & = \\frac{\\textit{Earnings}}{\\textit{Market Value Per Share}} \\\\\n",
    "\\textit{EPS} & = \\frac{\\textit{Earnings}}{\\textit{Share Price}}\n",
    "\\end{align}\n",
    "$$"
   ]
  }
 ],
 "metadata": {
  "kernelspec": {
   "display_name": "Python 3",
   "language": "python",
   "name": "python3"
  },
  "language_info": {
   "codemirror_mode": {
    "name": "ipython",
    "version": 3
   },
   "file_extension": ".py",
   "mimetype": "text/x-python",
   "name": "python",
   "nbconvert_exporter": "python",
   "pygments_lexer": "ipython3",
   "version": "3.7.6"
  }
 },
 "nbformat": 4,
 "nbformat_minor": 4
}
